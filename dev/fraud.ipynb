{
  "cells": [
    {
      "cell_type": "markdown",
      "id": "15e80a54",
      "metadata": {
        "id": "15e80a54"
      },
      "source": [
        "# CLASSIFICATION-- CUSTOMER CHURN PREDICTION"
      ]
    },
    {
      "cell_type": "markdown",
      "id": "19c93acb",
      "metadata": {
        "id": "19c93acb"
      },
      "source": [
        "![image.png](attachment:image.png)"
      ]
    },
    {
      "cell_type": "markdown",
      "id": "734ba730",
      "metadata": {
        "id": "734ba730"
      },
      "source": [
        "# Introduction (What is Customer Churn?)\n",
        "\n",
        "Customer churn is when customers or subscribers discontinue doing business with a firm or service.\n",
        "\n",
        "To be simple, it is when customers stops being your customer.\n",
        "\n",
        "Telco churn data includes information about a fictitious telecom company that provided home phone and Internet services to 7,043 California customers in the third quarter. Which customers have left, stayed, or signed up for their service shows?\n",
        "\n",
        "In this project, we aim to find the likelihood of a customer leaving the organization, the key indicators of churn as well as the retention strategies that can be implemented to avert this problem."
      ]
    },
    {
      "cell_type": "markdown",
      "id": "f4ea7933",
      "metadata": {
        "id": "f4ea7933"
      },
      "source": [
        "# Installation"
      ]
    },
    {
      "cell_type": "code",
      "execution_count": 1,
      "id": "f3e8a153",
      "metadata": {
        "id": "f3e8a153"
      },
      "outputs": [],
      "source": [
        "# !pip install xgboost\n",
        "# !pip install -U imbalanced-learn\n",
        "# !pip install --upgrade scipy\n",
        "# !pip install threadpoolctl==3.1.0\n",
        "# !pip install category_encoders"
      ]
    },
    {
      "cell_type": "markdown",
      "id": "c54864f1",
      "metadata": {
        "id": "c54864f1"
      },
      "source": [
        "# Importation"
      ]
    },
    {
      "cell_type": "code",
      "execution_count": 2,
      "id": "91b7e819",
      "metadata": {
        "id": "91b7e819"
      },
      "outputs": [],
      "source": [
        "# Data handling\n",
        "import pandas as pd\n",
        "import numpy as np\n",
        "import threadpoolctl\n",
        "# Vizualisation (Matplotlib, Plotly, Seaborn, etc. )\n",
        "import seaborn as sns\n",
        "import matplotlib.pyplot as plt\n",
        "\n",
        "# EDA (pandas-profiling, etc. )\n",
        "\n",
        "# Statistics\n",
        "from scipy import stats\n",
        "\n",
        "# Feature Processing (Scikit-learn processing, etc. )\n",
        "from sklearn.model_selection import train_test_split\n",
        "from sklearn.preprocessing import LabelEncoder, OneHotEncoder\n",
        "from sklearn.compose import make_column_transformer\n",
        "from sklearn.preprocessing import StandardScaler\n",
        "from collections import Counter\n",
        "\n",
        "# balance data\n",
        "from imblearn import under_sampling, over_sampling\n",
        "from imblearn.over_sampling import SMOTE, RandomOverSampler\n",
        "from imblearn.under_sampling import RandomUnderSampler\n",
        "\n",
        "# Machine Learning (Scikit-learn Estimators, Catboost, LightGBM, etc. )\n",
        "from sklearn.linear_model import LogisticRegression\n",
        "from sklearn.metrics import confusion_matrix,ConfusionMatrixDisplay\n",
        "from imblearn.over_sampling import RandomOverSampler\n",
        "from sklearn.metrics import make_scorer, accuracy_score, precision_score, recall_score, f1_score, fbeta_score, roc_auc_score, classification_report\n",
        "from sklearn.ensemble import RandomForestClassifier\n",
        "from xgboost import XGBClassifier, plot_importance\n",
        "from sklearn.metrics import roc_curve\n",
        "from sklearn.neighbors import KNeighborsClassifier\n",
        "from sklearn.svm import SVC\n",
        "from sklearn.tree import DecisionTreeClassifier\n",
        "from sklearn.cluster import KMeans\n",
        "\n",
        "# Hyperparameters Fine-tuning (Scikit-learn hp search, cross-validation, etc. )\n",
        "from sklearn.pipeline import Pipeline\n",
        "from sklearn.model_selection import GridSearchCV\n",
        "\n",
        "# Evaluations\n",
        "from sklearn.metrics import confusion_matrix, accuracy_score, classification_report, roc_auc_score, RocCurveDisplay, roc_curve, auc\n",
        "from sklearn.model_selection import StratifiedKFold, RandomizedSearchCV, cross_val_score\n",
        "from statistics import stdev\n",
        "from sklearn.model_selection import KFold\n",
        "\n",
        "# Other packages\n",
        "import os, pickle\n",
        "\n",
        "import warnings\n",
        "warnings.filterwarnings(\"ignore\")\n",
        "\n",
        "# Mounting Google Drive\n",
        "from google.colab import drive  # Import for accessing Google Drive\n",
        "\n",
        "# Unzipping files\n",
        "import zipfile  # Import for extracting zip files"
      ]
    },
    {
      "cell_type": "markdown",
      "id": "7f21642a",
      "metadata": {
        "id": "7f21642a"
      },
      "source": [
        "# Data Loading"
      ]
    },
    {
      "cell_type": "code",
      "execution_count": 3,
      "id": "d2abc3f0",
      "metadata": {
        "colab": {
          "base_uri": "https://localhost:8080/"
        },
        "id": "d2abc3f0",
        "outputId": "300d2beb-3c30-4994-e106-3255728a5034"
      },
      "outputs": [
        {
          "output_type": "stream",
          "name": "stdout",
          "text": [
            "Drive already mounted at /content/drive; to attempt to forcibly remount, call drive.mount(\"/content/drive\", force_remount=True).\n"
          ]
        }
      ],
      "source": [
        "# Mount your Google Drive\n",
        "drive.mount('/content/drive')\n",
        "\n",
        "# Get the file path from Google Drive\n",
        "file_path = '/content/drive/MyDrive/Colab Notebooks/datasets/Fraud.zip'\n",
        "\n",
        "# Unzip the file\n",
        "with zipfile.ZipFile(file_path, 'r') as zip_ref:\n",
        "    # Find the CSV files in the zip folder\n",
        "    file_path = zip_ref.extract('Fraud.csv', '/content/')\n",
        "\n",
        "# Read the csv file from the url\n",
        "data = pd.read_csv(file_path)"
      ]
    },
    {
      "cell_type": "markdown",
      "id": "b86aff73",
      "metadata": {
        "id": "b86aff73"
      },
      "source": [
        "# Exploratory Data Analysis"
      ]
    },
    {
      "cell_type": "markdown",
      "id": "c24c5674",
      "metadata": {
        "id": "c24c5674"
      },
      "source": [
        "## Hypothesis\n",
        "\n",
        "H0: The sample has a Gaussian distribution in the numerical feautures.\n",
        "\n",
        "H1: The sample does not have a Gaussian distribution in the numerical feautures."
      ]
    },
    {
      "cell_type": "markdown",
      "id": "ebe4271a",
      "metadata": {
        "id": "ebe4271a"
      },
      "source": [
        "## Questions\n",
        "\n",
        "1. Does longer tenure increase churn?\n",
        "2. Is there any pattern in Customer Churn based on gender?\n",
        "3. Which type of contract keeps more customers?\n",
        "4. What's the most profitable Internetservice type?"
      ]
    },
    {
      "cell_type": "markdown",
      "id": "213daf05",
      "metadata": {
        "id": "213daf05"
      },
      "source": [
        "## Issues with the data\n",
        "\n",
        "1. Some of the columns are irrelevant.\n",
        "2. some of the columns are not in their respective data types.\n",
        "3. The data values in the column payments method needs is not good for readability.\n",
        "4. The data has missing values"
      ]
    },
    {
      "cell_type": "markdown",
      "id": "597b01e9",
      "metadata": {
        "id": "597b01e9"
      },
      "source": [
        "## How I Intend to Solve Them\n",
        "\n",
        "1. Drop irrelevant columns\n",
        "2. Replace the correct data types in their respective columns\n",
        "3. Rename the data values for better readability.\n"
      ]
    },
    {
      "cell_type": "markdown",
      "id": "f96ebc8e",
      "metadata": {
        "id": "f96ebc8e"
      },
      "source": [
        "Rename the columns for better readability."
      ]
    },
    {
      "cell_type": "code",
      "execution_count": 4,
      "id": "726070f5",
      "metadata": {
        "id": "726070f5"
      },
      "outputs": [],
      "source": [
        "data.rename(columns={\n",
        "    'step': 'time_step',\n",
        "    'type': 'trans_type',\n",
        "    'amount': 'trans_amt',\n",
        "    'nameOrig': 'cust_orig',\n",
        "    'oldbalanceOrg': 'old_orig_bal',\n",
        "    'newbalanceOrig': 'new_orig_bal',\n",
        "    'nameDest': 'cust_dest',\n",
        "    'oldbalanceDest': 'old_dest_bal',\n",
        "    'newbalanceDest': 'new_dest_bal'\n",
        "}, inplace=True)"
      ]
    },
    {
      "cell_type": "code",
      "execution_count": 5,
      "id": "d7e2c061",
      "metadata": {
        "colab": {
          "base_uri": "https://localhost:8080/",
          "height": 226
        },
        "id": "d7e2c061",
        "outputId": "02ff3496-2a04-4ff8-8874-b52f95c483bc"
      },
      "outputs": [
        {
          "output_type": "execute_result",
          "data": {
            "text/plain": [
              "   time_step trans_type  trans_amt    cust_orig  old_orig_bal  new_orig_bal  \\\n",
              "0          1    PAYMENT    9839.64  C1231006815      170136.0     160296.36   \n",
              "1          1    PAYMENT    1864.28  C1666544295       21249.0      19384.72   \n",
              "2          1   TRANSFER     181.00  C1305486145         181.0          0.00   \n",
              "3          1   CASH_OUT     181.00   C840083671         181.0          0.00   \n",
              "4          1    PAYMENT   11668.14  C2048537720       41554.0      29885.86   \n",
              "\n",
              "     cust_dest  old_dest_bal  new_dest_bal  isFraud  isFlaggedFraud  \n",
              "0  M1979787155           0.0           0.0        0               0  \n",
              "1  M2044282225           0.0           0.0        0               0  \n",
              "2   C553264065           0.0           0.0        1               0  \n",
              "3    C38997010       21182.0           0.0        1               0  \n",
              "4  M1230701703           0.0           0.0        0               0  "
            ],
            "text/html": [
              "\n",
              "  <div id=\"df-2582af09-11a3-42bd-84f0-942920e049ad\" class=\"colab-df-container\">\n",
              "    <div>\n",
              "<style scoped>\n",
              "    .dataframe tbody tr th:only-of-type {\n",
              "        vertical-align: middle;\n",
              "    }\n",
              "\n",
              "    .dataframe tbody tr th {\n",
              "        vertical-align: top;\n",
              "    }\n",
              "\n",
              "    .dataframe thead th {\n",
              "        text-align: right;\n",
              "    }\n",
              "</style>\n",
              "<table border=\"1\" class=\"dataframe\">\n",
              "  <thead>\n",
              "    <tr style=\"text-align: right;\">\n",
              "      <th></th>\n",
              "      <th>time_step</th>\n",
              "      <th>trans_type</th>\n",
              "      <th>trans_amt</th>\n",
              "      <th>cust_orig</th>\n",
              "      <th>old_orig_bal</th>\n",
              "      <th>new_orig_bal</th>\n",
              "      <th>cust_dest</th>\n",
              "      <th>old_dest_bal</th>\n",
              "      <th>new_dest_bal</th>\n",
              "      <th>isFraud</th>\n",
              "      <th>isFlaggedFraud</th>\n",
              "    </tr>\n",
              "  </thead>\n",
              "  <tbody>\n",
              "    <tr>\n",
              "      <th>0</th>\n",
              "      <td>1</td>\n",
              "      <td>PAYMENT</td>\n",
              "      <td>9839.64</td>\n",
              "      <td>C1231006815</td>\n",
              "      <td>170136.0</td>\n",
              "      <td>160296.36</td>\n",
              "      <td>M1979787155</td>\n",
              "      <td>0.0</td>\n",
              "      <td>0.0</td>\n",
              "      <td>0</td>\n",
              "      <td>0</td>\n",
              "    </tr>\n",
              "    <tr>\n",
              "      <th>1</th>\n",
              "      <td>1</td>\n",
              "      <td>PAYMENT</td>\n",
              "      <td>1864.28</td>\n",
              "      <td>C1666544295</td>\n",
              "      <td>21249.0</td>\n",
              "      <td>19384.72</td>\n",
              "      <td>M2044282225</td>\n",
              "      <td>0.0</td>\n",
              "      <td>0.0</td>\n",
              "      <td>0</td>\n",
              "      <td>0</td>\n",
              "    </tr>\n",
              "    <tr>\n",
              "      <th>2</th>\n",
              "      <td>1</td>\n",
              "      <td>TRANSFER</td>\n",
              "      <td>181.00</td>\n",
              "      <td>C1305486145</td>\n",
              "      <td>181.0</td>\n",
              "      <td>0.00</td>\n",
              "      <td>C553264065</td>\n",
              "      <td>0.0</td>\n",
              "      <td>0.0</td>\n",
              "      <td>1</td>\n",
              "      <td>0</td>\n",
              "    </tr>\n",
              "    <tr>\n",
              "      <th>3</th>\n",
              "      <td>1</td>\n",
              "      <td>CASH_OUT</td>\n",
              "      <td>181.00</td>\n",
              "      <td>C840083671</td>\n",
              "      <td>181.0</td>\n",
              "      <td>0.00</td>\n",
              "      <td>C38997010</td>\n",
              "      <td>21182.0</td>\n",
              "      <td>0.0</td>\n",
              "      <td>1</td>\n",
              "      <td>0</td>\n",
              "    </tr>\n",
              "    <tr>\n",
              "      <th>4</th>\n",
              "      <td>1</td>\n",
              "      <td>PAYMENT</td>\n",
              "      <td>11668.14</td>\n",
              "      <td>C2048537720</td>\n",
              "      <td>41554.0</td>\n",
              "      <td>29885.86</td>\n",
              "      <td>M1230701703</td>\n",
              "      <td>0.0</td>\n",
              "      <td>0.0</td>\n",
              "      <td>0</td>\n",
              "      <td>0</td>\n",
              "    </tr>\n",
              "  </tbody>\n",
              "</table>\n",
              "</div>\n",
              "    <div class=\"colab-df-buttons\">\n",
              "\n",
              "  <div class=\"colab-df-container\">\n",
              "    <button class=\"colab-df-convert\" onclick=\"convertToInteractive('df-2582af09-11a3-42bd-84f0-942920e049ad')\"\n",
              "            title=\"Convert this dataframe to an interactive table.\"\n",
              "            style=\"display:none;\">\n",
              "\n",
              "  <svg xmlns=\"http://www.w3.org/2000/svg\" height=\"24px\" viewBox=\"0 -960 960 960\">\n",
              "    <path d=\"M120-120v-720h720v720H120Zm60-500h600v-160H180v160Zm220 220h160v-160H400v160Zm0 220h160v-160H400v160ZM180-400h160v-160H180v160Zm440 0h160v-160H620v160ZM180-180h160v-160H180v160Zm440 0h160v-160H620v160Z\"/>\n",
              "  </svg>\n",
              "    </button>\n",
              "\n",
              "  <style>\n",
              "    .colab-df-container {\n",
              "      display:flex;\n",
              "      gap: 12px;\n",
              "    }\n",
              "\n",
              "    .colab-df-convert {\n",
              "      background-color: #E8F0FE;\n",
              "      border: none;\n",
              "      border-radius: 50%;\n",
              "      cursor: pointer;\n",
              "      display: none;\n",
              "      fill: #1967D2;\n",
              "      height: 32px;\n",
              "      padding: 0 0 0 0;\n",
              "      width: 32px;\n",
              "    }\n",
              "\n",
              "    .colab-df-convert:hover {\n",
              "      background-color: #E2EBFA;\n",
              "      box-shadow: 0px 1px 2px rgba(60, 64, 67, 0.3), 0px 1px 3px 1px rgba(60, 64, 67, 0.15);\n",
              "      fill: #174EA6;\n",
              "    }\n",
              "\n",
              "    .colab-df-buttons div {\n",
              "      margin-bottom: 4px;\n",
              "    }\n",
              "\n",
              "    [theme=dark] .colab-df-convert {\n",
              "      background-color: #3B4455;\n",
              "      fill: #D2E3FC;\n",
              "    }\n",
              "\n",
              "    [theme=dark] .colab-df-convert:hover {\n",
              "      background-color: #434B5C;\n",
              "      box-shadow: 0px 1px 3px 1px rgba(0, 0, 0, 0.15);\n",
              "      filter: drop-shadow(0px 1px 2px rgba(0, 0, 0, 0.3));\n",
              "      fill: #FFFFFF;\n",
              "    }\n",
              "  </style>\n",
              "\n",
              "    <script>\n",
              "      const buttonEl =\n",
              "        document.querySelector('#df-2582af09-11a3-42bd-84f0-942920e049ad button.colab-df-convert');\n",
              "      buttonEl.style.display =\n",
              "        google.colab.kernel.accessAllowed ? 'block' : 'none';\n",
              "\n",
              "      async function convertToInteractive(key) {\n",
              "        const element = document.querySelector('#df-2582af09-11a3-42bd-84f0-942920e049ad');\n",
              "        const dataTable =\n",
              "          await google.colab.kernel.invokeFunction('convertToInteractive',\n",
              "                                                    [key], {});\n",
              "        if (!dataTable) return;\n",
              "\n",
              "        const docLinkHtml = 'Like what you see? Visit the ' +\n",
              "          '<a target=\"_blank\" href=https://colab.research.google.com/notebooks/data_table.ipynb>data table notebook</a>'\n",
              "          + ' to learn more about interactive tables.';\n",
              "        element.innerHTML = '';\n",
              "        dataTable['output_type'] = 'display_data';\n",
              "        await google.colab.output.renderOutput(dataTable, element);\n",
              "        const docLink = document.createElement('div');\n",
              "        docLink.innerHTML = docLinkHtml;\n",
              "        element.appendChild(docLink);\n",
              "      }\n",
              "    </script>\n",
              "  </div>\n",
              "\n",
              "\n",
              "<div id=\"df-915ecc15-d6a2-40e8-ab51-6d21e81578f0\">\n",
              "  <button class=\"colab-df-quickchart\" onclick=\"quickchart('df-915ecc15-d6a2-40e8-ab51-6d21e81578f0')\"\n",
              "            title=\"Suggest charts\"\n",
              "            style=\"display:none;\">\n",
              "\n",
              "<svg xmlns=\"http://www.w3.org/2000/svg\" height=\"24px\"viewBox=\"0 0 24 24\"\n",
              "     width=\"24px\">\n",
              "    <g>\n",
              "        <path d=\"M19 3H5c-1.1 0-2 .9-2 2v14c0 1.1.9 2 2 2h14c1.1 0 2-.9 2-2V5c0-1.1-.9-2-2-2zM9 17H7v-7h2v7zm4 0h-2V7h2v10zm4 0h-2v-4h2v4z\"/>\n",
              "    </g>\n",
              "</svg>\n",
              "  </button>\n",
              "\n",
              "<style>\n",
              "  .colab-df-quickchart {\n",
              "      --bg-color: #E8F0FE;\n",
              "      --fill-color: #1967D2;\n",
              "      --hover-bg-color: #E2EBFA;\n",
              "      --hover-fill-color: #174EA6;\n",
              "      --disabled-fill-color: #AAA;\n",
              "      --disabled-bg-color: #DDD;\n",
              "  }\n",
              "\n",
              "  [theme=dark] .colab-df-quickchart {\n",
              "      --bg-color: #3B4455;\n",
              "      --fill-color: #D2E3FC;\n",
              "      --hover-bg-color: #434B5C;\n",
              "      --hover-fill-color: #FFFFFF;\n",
              "      --disabled-bg-color: #3B4455;\n",
              "      --disabled-fill-color: #666;\n",
              "  }\n",
              "\n",
              "  .colab-df-quickchart {\n",
              "    background-color: var(--bg-color);\n",
              "    border: none;\n",
              "    border-radius: 50%;\n",
              "    cursor: pointer;\n",
              "    display: none;\n",
              "    fill: var(--fill-color);\n",
              "    height: 32px;\n",
              "    padding: 0;\n",
              "    width: 32px;\n",
              "  }\n",
              "\n",
              "  .colab-df-quickchart:hover {\n",
              "    background-color: var(--hover-bg-color);\n",
              "    box-shadow: 0 1px 2px rgba(60, 64, 67, 0.3), 0 1px 3px 1px rgba(60, 64, 67, 0.15);\n",
              "    fill: var(--button-hover-fill-color);\n",
              "  }\n",
              "\n",
              "  .colab-df-quickchart-complete:disabled,\n",
              "  .colab-df-quickchart-complete:disabled:hover {\n",
              "    background-color: var(--disabled-bg-color);\n",
              "    fill: var(--disabled-fill-color);\n",
              "    box-shadow: none;\n",
              "  }\n",
              "\n",
              "  .colab-df-spinner {\n",
              "    border: 2px solid var(--fill-color);\n",
              "    border-color: transparent;\n",
              "    border-bottom-color: var(--fill-color);\n",
              "    animation:\n",
              "      spin 1s steps(1) infinite;\n",
              "  }\n",
              "\n",
              "  @keyframes spin {\n",
              "    0% {\n",
              "      border-color: transparent;\n",
              "      border-bottom-color: var(--fill-color);\n",
              "      border-left-color: var(--fill-color);\n",
              "    }\n",
              "    20% {\n",
              "      border-color: transparent;\n",
              "      border-left-color: var(--fill-color);\n",
              "      border-top-color: var(--fill-color);\n",
              "    }\n",
              "    30% {\n",
              "      border-color: transparent;\n",
              "      border-left-color: var(--fill-color);\n",
              "      border-top-color: var(--fill-color);\n",
              "      border-right-color: var(--fill-color);\n",
              "    }\n",
              "    40% {\n",
              "      border-color: transparent;\n",
              "      border-right-color: var(--fill-color);\n",
              "      border-top-color: var(--fill-color);\n",
              "    }\n",
              "    60% {\n",
              "      border-color: transparent;\n",
              "      border-right-color: var(--fill-color);\n",
              "    }\n",
              "    80% {\n",
              "      border-color: transparent;\n",
              "      border-right-color: var(--fill-color);\n",
              "      border-bottom-color: var(--fill-color);\n",
              "    }\n",
              "    90% {\n",
              "      border-color: transparent;\n",
              "      border-bottom-color: var(--fill-color);\n",
              "    }\n",
              "  }\n",
              "</style>\n",
              "\n",
              "  <script>\n",
              "    async function quickchart(key) {\n",
              "      const quickchartButtonEl =\n",
              "        document.querySelector('#' + key + ' button');\n",
              "      quickchartButtonEl.disabled = true;  // To prevent multiple clicks.\n",
              "      quickchartButtonEl.classList.add('colab-df-spinner');\n",
              "      try {\n",
              "        const charts = await google.colab.kernel.invokeFunction(\n",
              "            'suggestCharts', [key], {});\n",
              "      } catch (error) {\n",
              "        console.error('Error during call to suggestCharts:', error);\n",
              "      }\n",
              "      quickchartButtonEl.classList.remove('colab-df-spinner');\n",
              "      quickchartButtonEl.classList.add('colab-df-quickchart-complete');\n",
              "    }\n",
              "    (() => {\n",
              "      let quickchartButtonEl =\n",
              "        document.querySelector('#df-915ecc15-d6a2-40e8-ab51-6d21e81578f0 button');\n",
              "      quickchartButtonEl.style.display =\n",
              "        google.colab.kernel.accessAllowed ? 'block' : 'none';\n",
              "    })();\n",
              "  </script>\n",
              "</div>\n",
              "\n",
              "    </div>\n",
              "  </div>\n"
            ],
            "application/vnd.google.colaboratory.intrinsic+json": {
              "type": "dataframe",
              "variable_name": "data"
            }
          },
          "metadata": {},
          "execution_count": 5
        }
      ],
      "source": [
        "data.head()"
      ]
    },
    {
      "cell_type": "code",
      "execution_count": 6,
      "id": "f37ddecf",
      "metadata": {
        "id": "f37ddecf"
      },
      "outputs": [],
      "source": [
        "data['isMerchant'] = data['cust_dest'].apply(lambda x: 1 if x.startswith('M') else 0)"
      ]
    },
    {
      "cell_type": "code",
      "execution_count": 7,
      "id": "a9db9164",
      "metadata": {
        "colab": {
          "base_uri": "https://localhost:8080/"
        },
        "id": "a9db9164",
        "outputId": "1d1869b9-0096-4257-81de-cb332f4708d5"
      },
      "outputs": [
        {
          "output_type": "execute_result",
          "data": {
            "text/plain": [
              "(6362620, 12)"
            ]
          },
          "metadata": {},
          "execution_count": 7
        }
      ],
      "source": [
        "data.shape"
      ]
    },
    {
      "cell_type": "code",
      "execution_count": 8,
      "id": "dcbc0397",
      "metadata": {
        "colab": {
          "base_uri": "https://localhost:8080/"
        },
        "id": "dcbc0397",
        "outputId": "f716a958-bfd3-4a11-fe86-f72a86a8aa11"
      },
      "outputs": [
        {
          "output_type": "stream",
          "name": "stdout",
          "text": [
            "<class 'pandas.core.frame.DataFrame'>\n",
            "RangeIndex: 6362620 entries, 0 to 6362619\n",
            "Data columns (total 12 columns):\n",
            " #   Column          Dtype  \n",
            "---  ------          -----  \n",
            " 0   time_step       int64  \n",
            " 1   trans_type      object \n",
            " 2   trans_amt       float64\n",
            " 3   cust_orig       object \n",
            " 4   old_orig_bal    float64\n",
            " 5   new_orig_bal    float64\n",
            " 6   cust_dest       object \n",
            " 7   old_dest_bal    float64\n",
            " 8   new_dest_bal    float64\n",
            " 9   isFraud         int64  \n",
            " 10  isFlaggedFraud  int64  \n",
            " 11  isMerchant      int64  \n",
            "dtypes: float64(5), int64(4), object(3)\n",
            "memory usage: 582.5+ MB\n"
          ]
        }
      ],
      "source": [
        "# summary of the dataframe\n",
        "data.info()"
      ]
    },
    {
      "cell_type": "code",
      "execution_count": 9,
      "id": "b73bfbad",
      "metadata": {
        "colab": {
          "base_uri": "https://localhost:8080/"
        },
        "id": "b73bfbad",
        "outputId": "f31e7203-6f31-498e-99f5-19bd11cec71b"
      },
      "outputs": [
        {
          "output_type": "stream",
          "name": "stdout",
          "text": [
            "trans_type 5\n",
            "cust_orig 6353307\n",
            "cust_dest 2722362\n"
          ]
        }
      ],
      "source": [
        "for col in data.columns:\n",
        "    if data[col].dtype == 'object':\n",
        "        print(col, data[col].nunique())"
      ]
    },
    {
      "cell_type": "markdown",
      "id": "4b74db7f",
      "metadata": {
        "id": "4b74db7f"
      },
      "source": [
        "cust_orig and cust_dest are unique for each transaction, so we can drop them."
      ]
    },
    {
      "cell_type": "code",
      "execution_count": 10,
      "id": "f67821be",
      "metadata": {
        "id": "f67821be"
      },
      "outputs": [],
      "source": [
        "data.drop(columns=['cust_orig', 'cust_dest'], inplace=True)"
      ]
    },
    {
      "cell_type": "code",
      "execution_count": 11,
      "id": "b89e8bc0",
      "metadata": {
        "colab": {
          "base_uri": "https://localhost:8080/",
          "height": 320
        },
        "id": "b89e8bc0",
        "outputId": "85b9363e-a037-4dc8-f448-23be543d105b"
      },
      "outputs": [
        {
          "output_type": "execute_result",
          "data": {
            "text/plain": [
              "          time_step     trans_amt  old_orig_bal  new_orig_bal  old_dest_bal  \\\n",
              "count  6.362620e+06  6.362620e+06  6.362620e+06  6.362620e+06  6.362620e+06   \n",
              "mean   2.433972e+02  1.798619e+05  8.338831e+05  8.551137e+05  1.100702e+06   \n",
              "std    1.423320e+02  6.038582e+05  2.888243e+06  2.924049e+06  3.399180e+06   \n",
              "min    1.000000e+00  0.000000e+00  0.000000e+00  0.000000e+00  0.000000e+00   \n",
              "25%    1.560000e+02  1.338957e+04  0.000000e+00  0.000000e+00  0.000000e+00   \n",
              "50%    2.390000e+02  7.487194e+04  1.420800e+04  0.000000e+00  1.327057e+05   \n",
              "75%    3.350000e+02  2.087215e+05  1.073152e+05  1.442584e+05  9.430367e+05   \n",
              "max    7.430000e+02  9.244552e+07  5.958504e+07  4.958504e+07  3.560159e+08   \n",
              "\n",
              "       new_dest_bal       isFraud  isFlaggedFraud    isMerchant  \n",
              "count  6.362620e+06  6.362620e+06    6.362620e+06  6.362620e+06  \n",
              "mean   1.224996e+06  1.290820e-03    2.514687e-06  3.381461e-01  \n",
              "std    3.674129e+06  3.590480e-02    1.585775e-03  4.730786e-01  \n",
              "min    0.000000e+00  0.000000e+00    0.000000e+00  0.000000e+00  \n",
              "25%    0.000000e+00  0.000000e+00    0.000000e+00  0.000000e+00  \n",
              "50%    2.146614e+05  0.000000e+00    0.000000e+00  0.000000e+00  \n",
              "75%    1.111909e+06  0.000000e+00    0.000000e+00  1.000000e+00  \n",
              "max    3.561793e+08  1.000000e+00    1.000000e+00  1.000000e+00  "
            ],
            "text/html": [
              "\n",
              "  <div id=\"df-168fc0db-09e7-4118-8a30-3ec0bd265340\" class=\"colab-df-container\">\n",
              "    <div>\n",
              "<style scoped>\n",
              "    .dataframe tbody tr th:only-of-type {\n",
              "        vertical-align: middle;\n",
              "    }\n",
              "\n",
              "    .dataframe tbody tr th {\n",
              "        vertical-align: top;\n",
              "    }\n",
              "\n",
              "    .dataframe thead th {\n",
              "        text-align: right;\n",
              "    }\n",
              "</style>\n",
              "<table border=\"1\" class=\"dataframe\">\n",
              "  <thead>\n",
              "    <tr style=\"text-align: right;\">\n",
              "      <th></th>\n",
              "      <th>time_step</th>\n",
              "      <th>trans_amt</th>\n",
              "      <th>old_orig_bal</th>\n",
              "      <th>new_orig_bal</th>\n",
              "      <th>old_dest_bal</th>\n",
              "      <th>new_dest_bal</th>\n",
              "      <th>isFraud</th>\n",
              "      <th>isFlaggedFraud</th>\n",
              "      <th>isMerchant</th>\n",
              "    </tr>\n",
              "  </thead>\n",
              "  <tbody>\n",
              "    <tr>\n",
              "      <th>count</th>\n",
              "      <td>6.362620e+06</td>\n",
              "      <td>6.362620e+06</td>\n",
              "      <td>6.362620e+06</td>\n",
              "      <td>6.362620e+06</td>\n",
              "      <td>6.362620e+06</td>\n",
              "      <td>6.362620e+06</td>\n",
              "      <td>6.362620e+06</td>\n",
              "      <td>6.362620e+06</td>\n",
              "      <td>6.362620e+06</td>\n",
              "    </tr>\n",
              "    <tr>\n",
              "      <th>mean</th>\n",
              "      <td>2.433972e+02</td>\n",
              "      <td>1.798619e+05</td>\n",
              "      <td>8.338831e+05</td>\n",
              "      <td>8.551137e+05</td>\n",
              "      <td>1.100702e+06</td>\n",
              "      <td>1.224996e+06</td>\n",
              "      <td>1.290820e-03</td>\n",
              "      <td>2.514687e-06</td>\n",
              "      <td>3.381461e-01</td>\n",
              "    </tr>\n",
              "    <tr>\n",
              "      <th>std</th>\n",
              "      <td>1.423320e+02</td>\n",
              "      <td>6.038582e+05</td>\n",
              "      <td>2.888243e+06</td>\n",
              "      <td>2.924049e+06</td>\n",
              "      <td>3.399180e+06</td>\n",
              "      <td>3.674129e+06</td>\n",
              "      <td>3.590480e-02</td>\n",
              "      <td>1.585775e-03</td>\n",
              "      <td>4.730786e-01</td>\n",
              "    </tr>\n",
              "    <tr>\n",
              "      <th>min</th>\n",
              "      <td>1.000000e+00</td>\n",
              "      <td>0.000000e+00</td>\n",
              "      <td>0.000000e+00</td>\n",
              "      <td>0.000000e+00</td>\n",
              "      <td>0.000000e+00</td>\n",
              "      <td>0.000000e+00</td>\n",
              "      <td>0.000000e+00</td>\n",
              "      <td>0.000000e+00</td>\n",
              "      <td>0.000000e+00</td>\n",
              "    </tr>\n",
              "    <tr>\n",
              "      <th>25%</th>\n",
              "      <td>1.560000e+02</td>\n",
              "      <td>1.338957e+04</td>\n",
              "      <td>0.000000e+00</td>\n",
              "      <td>0.000000e+00</td>\n",
              "      <td>0.000000e+00</td>\n",
              "      <td>0.000000e+00</td>\n",
              "      <td>0.000000e+00</td>\n",
              "      <td>0.000000e+00</td>\n",
              "      <td>0.000000e+00</td>\n",
              "    </tr>\n",
              "    <tr>\n",
              "      <th>50%</th>\n",
              "      <td>2.390000e+02</td>\n",
              "      <td>7.487194e+04</td>\n",
              "      <td>1.420800e+04</td>\n",
              "      <td>0.000000e+00</td>\n",
              "      <td>1.327057e+05</td>\n",
              "      <td>2.146614e+05</td>\n",
              "      <td>0.000000e+00</td>\n",
              "      <td>0.000000e+00</td>\n",
              "      <td>0.000000e+00</td>\n",
              "    </tr>\n",
              "    <tr>\n",
              "      <th>75%</th>\n",
              "      <td>3.350000e+02</td>\n",
              "      <td>2.087215e+05</td>\n",
              "      <td>1.073152e+05</td>\n",
              "      <td>1.442584e+05</td>\n",
              "      <td>9.430367e+05</td>\n",
              "      <td>1.111909e+06</td>\n",
              "      <td>0.000000e+00</td>\n",
              "      <td>0.000000e+00</td>\n",
              "      <td>1.000000e+00</td>\n",
              "    </tr>\n",
              "    <tr>\n",
              "      <th>max</th>\n",
              "      <td>7.430000e+02</td>\n",
              "      <td>9.244552e+07</td>\n",
              "      <td>5.958504e+07</td>\n",
              "      <td>4.958504e+07</td>\n",
              "      <td>3.560159e+08</td>\n",
              "      <td>3.561793e+08</td>\n",
              "      <td>1.000000e+00</td>\n",
              "      <td>1.000000e+00</td>\n",
              "      <td>1.000000e+00</td>\n",
              "    </tr>\n",
              "  </tbody>\n",
              "</table>\n",
              "</div>\n",
              "    <div class=\"colab-df-buttons\">\n",
              "\n",
              "  <div class=\"colab-df-container\">\n",
              "    <button class=\"colab-df-convert\" onclick=\"convertToInteractive('df-168fc0db-09e7-4118-8a30-3ec0bd265340')\"\n",
              "            title=\"Convert this dataframe to an interactive table.\"\n",
              "            style=\"display:none;\">\n",
              "\n",
              "  <svg xmlns=\"http://www.w3.org/2000/svg\" height=\"24px\" viewBox=\"0 -960 960 960\">\n",
              "    <path d=\"M120-120v-720h720v720H120Zm60-500h600v-160H180v160Zm220 220h160v-160H400v160Zm0 220h160v-160H400v160ZM180-400h160v-160H180v160Zm440 0h160v-160H620v160ZM180-180h160v-160H180v160Zm440 0h160v-160H620v160Z\"/>\n",
              "  </svg>\n",
              "    </button>\n",
              "\n",
              "  <style>\n",
              "    .colab-df-container {\n",
              "      display:flex;\n",
              "      gap: 12px;\n",
              "    }\n",
              "\n",
              "    .colab-df-convert {\n",
              "      background-color: #E8F0FE;\n",
              "      border: none;\n",
              "      border-radius: 50%;\n",
              "      cursor: pointer;\n",
              "      display: none;\n",
              "      fill: #1967D2;\n",
              "      height: 32px;\n",
              "      padding: 0 0 0 0;\n",
              "      width: 32px;\n",
              "    }\n",
              "\n",
              "    .colab-df-convert:hover {\n",
              "      background-color: #E2EBFA;\n",
              "      box-shadow: 0px 1px 2px rgba(60, 64, 67, 0.3), 0px 1px 3px 1px rgba(60, 64, 67, 0.15);\n",
              "      fill: #174EA6;\n",
              "    }\n",
              "\n",
              "    .colab-df-buttons div {\n",
              "      margin-bottom: 4px;\n",
              "    }\n",
              "\n",
              "    [theme=dark] .colab-df-convert {\n",
              "      background-color: #3B4455;\n",
              "      fill: #D2E3FC;\n",
              "    }\n",
              "\n",
              "    [theme=dark] .colab-df-convert:hover {\n",
              "      background-color: #434B5C;\n",
              "      box-shadow: 0px 1px 3px 1px rgba(0, 0, 0, 0.15);\n",
              "      filter: drop-shadow(0px 1px 2px rgba(0, 0, 0, 0.3));\n",
              "      fill: #FFFFFF;\n",
              "    }\n",
              "  </style>\n",
              "\n",
              "    <script>\n",
              "      const buttonEl =\n",
              "        document.querySelector('#df-168fc0db-09e7-4118-8a30-3ec0bd265340 button.colab-df-convert');\n",
              "      buttonEl.style.display =\n",
              "        google.colab.kernel.accessAllowed ? 'block' : 'none';\n",
              "\n",
              "      async function convertToInteractive(key) {\n",
              "        const element = document.querySelector('#df-168fc0db-09e7-4118-8a30-3ec0bd265340');\n",
              "        const dataTable =\n",
              "          await google.colab.kernel.invokeFunction('convertToInteractive',\n",
              "                                                    [key], {});\n",
              "        if (!dataTable) return;\n",
              "\n",
              "        const docLinkHtml = 'Like what you see? Visit the ' +\n",
              "          '<a target=\"_blank\" href=https://colab.research.google.com/notebooks/data_table.ipynb>data table notebook</a>'\n",
              "          + ' to learn more about interactive tables.';\n",
              "        element.innerHTML = '';\n",
              "        dataTable['output_type'] = 'display_data';\n",
              "        await google.colab.output.renderOutput(dataTable, element);\n",
              "        const docLink = document.createElement('div');\n",
              "        docLink.innerHTML = docLinkHtml;\n",
              "        element.appendChild(docLink);\n",
              "      }\n",
              "    </script>\n",
              "  </div>\n",
              "\n",
              "\n",
              "<div id=\"df-07a029ad-0ec4-4f05-8a95-168789983ae5\">\n",
              "  <button class=\"colab-df-quickchart\" onclick=\"quickchart('df-07a029ad-0ec4-4f05-8a95-168789983ae5')\"\n",
              "            title=\"Suggest charts\"\n",
              "            style=\"display:none;\">\n",
              "\n",
              "<svg xmlns=\"http://www.w3.org/2000/svg\" height=\"24px\"viewBox=\"0 0 24 24\"\n",
              "     width=\"24px\">\n",
              "    <g>\n",
              "        <path d=\"M19 3H5c-1.1 0-2 .9-2 2v14c0 1.1.9 2 2 2h14c1.1 0 2-.9 2-2V5c0-1.1-.9-2-2-2zM9 17H7v-7h2v7zm4 0h-2V7h2v10zm4 0h-2v-4h2v4z\"/>\n",
              "    </g>\n",
              "</svg>\n",
              "  </button>\n",
              "\n",
              "<style>\n",
              "  .colab-df-quickchart {\n",
              "      --bg-color: #E8F0FE;\n",
              "      --fill-color: #1967D2;\n",
              "      --hover-bg-color: #E2EBFA;\n",
              "      --hover-fill-color: #174EA6;\n",
              "      --disabled-fill-color: #AAA;\n",
              "      --disabled-bg-color: #DDD;\n",
              "  }\n",
              "\n",
              "  [theme=dark] .colab-df-quickchart {\n",
              "      --bg-color: #3B4455;\n",
              "      --fill-color: #D2E3FC;\n",
              "      --hover-bg-color: #434B5C;\n",
              "      --hover-fill-color: #FFFFFF;\n",
              "      --disabled-bg-color: #3B4455;\n",
              "      --disabled-fill-color: #666;\n",
              "  }\n",
              "\n",
              "  .colab-df-quickchart {\n",
              "    background-color: var(--bg-color);\n",
              "    border: none;\n",
              "    border-radius: 50%;\n",
              "    cursor: pointer;\n",
              "    display: none;\n",
              "    fill: var(--fill-color);\n",
              "    height: 32px;\n",
              "    padding: 0;\n",
              "    width: 32px;\n",
              "  }\n",
              "\n",
              "  .colab-df-quickchart:hover {\n",
              "    background-color: var(--hover-bg-color);\n",
              "    box-shadow: 0 1px 2px rgba(60, 64, 67, 0.3), 0 1px 3px 1px rgba(60, 64, 67, 0.15);\n",
              "    fill: var(--button-hover-fill-color);\n",
              "  }\n",
              "\n",
              "  .colab-df-quickchart-complete:disabled,\n",
              "  .colab-df-quickchart-complete:disabled:hover {\n",
              "    background-color: var(--disabled-bg-color);\n",
              "    fill: var(--disabled-fill-color);\n",
              "    box-shadow: none;\n",
              "  }\n",
              "\n",
              "  .colab-df-spinner {\n",
              "    border: 2px solid var(--fill-color);\n",
              "    border-color: transparent;\n",
              "    border-bottom-color: var(--fill-color);\n",
              "    animation:\n",
              "      spin 1s steps(1) infinite;\n",
              "  }\n",
              "\n",
              "  @keyframes spin {\n",
              "    0% {\n",
              "      border-color: transparent;\n",
              "      border-bottom-color: var(--fill-color);\n",
              "      border-left-color: var(--fill-color);\n",
              "    }\n",
              "    20% {\n",
              "      border-color: transparent;\n",
              "      border-left-color: var(--fill-color);\n",
              "      border-top-color: var(--fill-color);\n",
              "    }\n",
              "    30% {\n",
              "      border-color: transparent;\n",
              "      border-left-color: var(--fill-color);\n",
              "      border-top-color: var(--fill-color);\n",
              "      border-right-color: var(--fill-color);\n",
              "    }\n",
              "    40% {\n",
              "      border-color: transparent;\n",
              "      border-right-color: var(--fill-color);\n",
              "      border-top-color: var(--fill-color);\n",
              "    }\n",
              "    60% {\n",
              "      border-color: transparent;\n",
              "      border-right-color: var(--fill-color);\n",
              "    }\n",
              "    80% {\n",
              "      border-color: transparent;\n",
              "      border-right-color: var(--fill-color);\n",
              "      border-bottom-color: var(--fill-color);\n",
              "    }\n",
              "    90% {\n",
              "      border-color: transparent;\n",
              "      border-bottom-color: var(--fill-color);\n",
              "    }\n",
              "  }\n",
              "</style>\n",
              "\n",
              "  <script>\n",
              "    async function quickchart(key) {\n",
              "      const quickchartButtonEl =\n",
              "        document.querySelector('#' + key + ' button');\n",
              "      quickchartButtonEl.disabled = true;  // To prevent multiple clicks.\n",
              "      quickchartButtonEl.classList.add('colab-df-spinner');\n",
              "      try {\n",
              "        const charts = await google.colab.kernel.invokeFunction(\n",
              "            'suggestCharts', [key], {});\n",
              "      } catch (error) {\n",
              "        console.error('Error during call to suggestCharts:', error);\n",
              "      }\n",
              "      quickchartButtonEl.classList.remove('colab-df-spinner');\n",
              "      quickchartButtonEl.classList.add('colab-df-quickchart-complete');\n",
              "    }\n",
              "    (() => {\n",
              "      let quickchartButtonEl =\n",
              "        document.querySelector('#df-07a029ad-0ec4-4f05-8a95-168789983ae5 button');\n",
              "      quickchartButtonEl.style.display =\n",
              "        google.colab.kernel.accessAllowed ? 'block' : 'none';\n",
              "    })();\n",
              "  </script>\n",
              "</div>\n",
              "\n",
              "    </div>\n",
              "  </div>\n"
            ],
            "application/vnd.google.colaboratory.intrinsic+json": {
              "type": "dataframe",
              "summary": "{\n  \"name\": \"data\",\n  \"rows\": 8,\n  \"fields\": [\n    {\n      \"column\": \"time_step\",\n      \"properties\": {\n        \"dtype\": \"number\",\n        \"std\": 2249431.9540618425,\n        \"min\": 1.0,\n        \"max\": 6362620.0,\n        \"num_unique_values\": 8,\n        \"samples\": [\n          243.39724563151657,\n          239.0,\n          6362620.0\n        ],\n        \"semantic_type\": \"\",\n        \"description\": \"\"\n      }\n    },\n    {\n      \"column\": \"trans_amt\",\n      \"properties\": {\n        \"dtype\": \"number\",\n        \"std\": 32381388.583731953,\n        \"min\": 0.0,\n        \"max\": 92445516.64,\n        \"num_unique_values\": 8,\n        \"samples\": [\n          179861.90354913071,\n          74871.94,\n          6362620.0\n        ],\n        \"semantic_type\": \"\",\n        \"description\": \"\"\n      }\n    },\n    {\n      \"column\": \"old_orig_bal\",\n      \"properties\": {\n        \"dtype\": \"number\",\n        \"std\": 20671082.759776674,\n        \"min\": 0.0,\n        \"max\": 59585040.37,\n        \"num_unique_values\": 7,\n        \"samples\": [\n          6362620.0,\n          833883.1040744866,\n          107315.175\n        ],\n        \"semantic_type\": \"\",\n        \"description\": \"\"\n      }\n    },\n    {\n      \"column\": \"new_orig_bal\",\n      \"properties\": {\n        \"dtype\": \"number\",\n        \"std\": 17156393.891380887,\n        \"min\": 0.0,\n        \"max\": 49585040.37,\n        \"num_unique_values\": 6,\n        \"samples\": [\n          6362620.0,\n          855113.6685785869,\n          49585040.37\n        ],\n        \"semantic_type\": \"\",\n        \"description\": \"\"\n      }\n    },\n    {\n      \"column\": \"old_dest_bal\",\n      \"properties\": {\n        \"dtype\": \"number\",\n        \"std\": 125286921.42233709,\n        \"min\": 0.0,\n        \"max\": 356015889.35,\n        \"num_unique_values\": 7,\n        \"samples\": [\n          6362620.0,\n          1100701.6665196486,\n          943036.7075\n        ],\n        \"semantic_type\": \"\",\n        \"description\": \"\"\n      }\n    },\n    {\n      \"column\": \"new_dest_bal\",\n      \"properties\": {\n        \"dtype\": \"number\",\n        \"std\": 125312039.97617194,\n        \"min\": 0.0,\n        \"max\": 356179278.92,\n        \"num_unique_values\": 7,\n        \"samples\": [\n          6362620.0,\n          1224996.3982019299,\n          1111909.25\n        ],\n        \"semantic_type\": \"\",\n        \"description\": \"\"\n      }\n    },\n    {\n      \"column\": \"isFraud\",\n      \"properties\": {\n        \"dtype\": \"number\",\n        \"std\": 2249525.821670313,\n        \"min\": 0.0,\n        \"max\": 6362620.0,\n        \"num_unique_values\": 5,\n        \"samples\": [\n          0.001290820448180152,\n          1.0,\n          0.03590479680160413\n        ],\n        \"semantic_type\": \"\",\n        \"description\": \"\"\n      }\n    },\n    {\n      \"column\": \"isFlaggedFraud\",\n      \"properties\": {\n        \"dtype\": \"number\",\n        \"std\": 2249525.8234687545,\n        \"min\": 0.0,\n        \"max\": 6362620.0,\n        \"num_unique_values\": 5,\n        \"samples\": [\n          2.51468734577894e-06,\n          1.0,\n          0.001585774705736547\n        ],\n        \"semantic_type\": \"\",\n        \"description\": \"\"\n      }\n    },\n    {\n      \"column\": \"isMerchant\",\n      \"properties\": {\n        \"dtype\": \"number\",\n        \"std\": 2249525.732068327,\n        \"min\": 0.0,\n        \"max\": 6362620.0,\n        \"num_unique_values\": 5,\n        \"samples\": [\n          0.3381460781879163,\n          1.0,\n          0.4730785803318118\n        ],\n        \"semantic_type\": \"\",\n        \"description\": \"\"\n      }\n    }\n  ]\n}"
            }
          },
          "metadata": {},
          "execution_count": 11
        }
      ],
      "source": [
        "data.describe()"
      ]
    },
    {
      "cell_type": "markdown",
      "id": "69d82642",
      "metadata": {
        "id": "69d82642"
      },
      "source": [
        "check for outliers only in the columns that shouldn't have outliers"
      ]
    },
    {
      "cell_type": "code",
      "execution_count": 12,
      "id": "1cc50fed",
      "metadata": {
        "colab": {
          "base_uri": "https://localhost:8080/"
        },
        "id": "1cc50fed",
        "outputId": "af27fd4b-ea9f-46aa-ebe0-b1d8f3d91a7f"
      },
      "outputs": [
        {
          "output_type": "execute_result",
          "data": {
            "text/plain": [
              "trans_amt       True\n",
              "old_orig_bal    True\n",
              "new_orig_bal    True\n",
              "old_dest_bal    True\n",
              "new_dest_bal    True\n",
              "dtype: bool"
            ]
          },
          "metadata": {},
          "execution_count": 12
        }
      ],
      "source": [
        "# Check of outliers by applying the IQR method checking\n",
        "df = data.drop(['trans_type', 'time_step', 'isFraud', 'isFlaggedFraud', 'isMerchant'], axis=1)\n",
        "\n",
        "Q1 = df.quantile(0.25)\n",
        "Q3 = df.quantile(0.75)\n",
        "IQR = Q3-Q1\n",
        "IQR\n",
        "((df < (Q1-1.5 * IQR)) | (df > (Q3 + 1.5 * IQR))).any()\n"
      ]
    },
    {
      "cell_type": "markdown",
      "id": "edd3d904",
      "metadata": {
        "id": "edd3d904"
      },
      "source": [
        "The results above showed there are outliers, but these outliers are probably because of fraudulent transactions"
      ]
    },
    {
      "cell_type": "code",
      "source": [
        "plt.figure(figsize=(10, 6))\n",
        "\n",
        "# Plot the boxplot\n",
        "df.boxplot()\n",
        "\n",
        "# Rotate x-axis labels by 45 degrees\n",
        "plt.xticks(rotation=45)\n",
        "\n",
        "# Display the plot\n",
        "plt.show()"
      ],
      "metadata": {
        "colab": {
          "base_uri": "https://localhost:8080/",
          "height": 600
        },
        "id": "lu8f1kX3kctg",
        "outputId": "98684c74-6789-4c9b-844d-05730e70d2fb"
      },
      "id": "lu8f1kX3kctg",
      "execution_count": 13,
      "outputs": [
        {
          "output_type": "display_data",
          "data": {
            "text/plain": [
              "<Figure size 1000x600 with 1 Axes>"
            ],
            "image/png": "[encoded data removed]"
          },
          "metadata": {}
        }
      ]
    },
    {
      "cell_type": "code",
      "source": [
        "# # Check if outliers still exist in the columns\n",
        "# outliers_exist = False\n",
        "\n",
        "# for col in df.columns.tolist():\n",
        "#     # Calculate the first and third quartiles (Q1 and Q3)\n",
        "#     Q1 = df[col].quantile(0.25)\n",
        "#     Q3 = df[col].quantile(0.75)\n",
        "\n",
        "#     # Calculate the interquartile range (IQR)\n",
        "#     IQR = Q3 - Q1\n",
        "\n",
        "#     # Define the lower and upper bounds for outliers\n",
        "#     lower_bound = Q1 - 1.5 * IQR\n",
        "#     upper_bound = Q3 + 1.5 * IQR\n",
        "\n",
        "#     # Modify the values in the col to be within the range\n",
        "#     df[col] = df[col].clip(lower_bound, upper_bound)\n",
        "\n",
        "#     # Check if outliers exist in the col\n",
        "#     if (df[col] < lower_bound).any() or (df[col] > upper_bound).any():\n",
        "#         outliers_exist = True\n",
        "#         print(f\"Outliers still exist in '{col}'.\")"
      ],
      "metadata": {
        "id": "k-ppJBDSkgsX"
      },
      "id": "k-ppJBDSkgsX",
      "execution_count": 14,
      "outputs": []
    },
    {
      "cell_type": "code",
      "source": [
        "plt.figure(figsize=(10, 6))\n",
        "\n",
        "# Plot the boxplot\n",
        "df.boxplot()\n",
        "\n",
        "# Rotate x-axis labels by 45 degrees\n",
        "plt.xticks(rotation=45)\n",
        "\n",
        "# Display the plot\n",
        "plt.show()"
      ],
      "metadata": {
        "colab": {
          "base_uri": "https://localhost:8080/",
          "height": 600
        },
        "id": "CjaHKuK0nNe3",
        "outputId": "1c7d5593-6462-41a6-96bb-d0bbf33a787c"
      },
      "id": "CjaHKuK0nNe3",
      "execution_count": 15,
      "outputs": [
        {
          "output_type": "display_data",
          "data": {
            "text/plain": [
              "<Figure size 1000x600 with 1 Axes>"
            ],
            "image/png": "[encoded data removed]"
          },
          "metadata": {}
        }
      ]
    },
    {
      "cell_type": "markdown",
      "id": "682e269d",
      "metadata": {
        "id": "682e269d"
      },
      "source": [
        "## Bivariate Analysis"
      ]
    },
    {
      "cell_type": "code",
      "execution_count": 16,
      "id": "7b7481a1",
      "metadata": {
        "colab": {
          "base_uri": "https://localhost:8080/",
          "height": 711
        },
        "id": "7b7481a1",
        "outputId": "e1203a58-1757-466e-c9f1-23afab115a66"
      },
      "outputs": [
        {
          "output_type": "display_data",
          "data": {
            "text/plain": [
              "<Figure size 1000x800 with 1 Axes>"
            ],
            "image/png": "[encoded data removed]"
          },
          "metadata": {}
        }
      ],
      "source": [
        "fig = plt.figure(figsize= (10,8))\n",
        "\n",
        "sns.countplot(data = data,\n",
        "              x = 'trans_type',\n",
        "              hue = 'isFraud')\n",
        "plt.show()"
      ]
    },
    {
      "cell_type": "markdown",
      "id": "5a006d2d",
      "metadata": {
        "id": "5a006d2d"
      },
      "source": [
        "let's see for other categories"
      ]
    },
    {
      "cell_type": "code",
      "execution_count": 17,
      "id": "7fc373d8",
      "metadata": {
        "colab": {
          "base_uri": "https://localhost:8080/",
          "height": 769
        },
        "id": "7fc373d8",
        "outputId": "11cfa6a6-003f-4cb8-baaa-5c85578ffa11"
      },
      "outputs": [
        {
          "output_type": "display_data",
          "data": {
            "text/plain": [
              "<Figure size 1000x800 with 2 Axes>"
            ],
            "image/png": "[encoded data removed]"
          },
          "metadata": {}
        }
      ],
      "source": [
        "# Setup figure\n",
        "cols = 2\n",
        "rows = 1\n",
        "fig = plt.figure(figsize= (10,8))\n",
        "\n",
        "# Plotting\n",
        "for i, col in enumerate(['isMerchant', 'isFlaggedFraud']):\n",
        "    ax=fig.add_subplot(rows, cols, i+1)\n",
        "    sns.countplot(x=data[col], hue='isFraud', data=data, ax=ax)\n",
        "    plt.xticks(rotation=45, ha='right')\n",
        "fig.tight_layout()\n",
        "plt.show()"
      ]
    },
    {
      "cell_type": "code",
      "execution_count": 18,
      "id": "3097012b",
      "metadata": {
        "colab": {
          "base_uri": "https://localhost:8080/",
          "height": 803
        },
        "id": "3097012b",
        "outputId": "be671e11-b2ce-4032-8a5a-dbab5479c386"
      },
      "outputs": [
        {
          "output_type": "display_data",
          "data": {
            "text/plain": [
              "<Figure size 1200x1000 with 1 Axes>"
            ],
            "image/png": "[encoded data removed]"
          },
          "metadata": {}
        }
      ],
      "source": [
        "# Apply logarithmic transformation to 'trans_amt' to handle skewness\n",
        "df = data\n",
        "df['log_trans_amt'] = np.log1p(df['trans_amt'])  # Using log1p to avoid log(0)\n",
        "\n",
        "# Create a plot with the transformed data\n",
        "plt.figure(figsize=(12, 10))\n",
        "sns.histplot(data=df, x='log_trans_amt', hue='isFraud', multiple='stack', alpha=0.5)\n",
        "plt.xlabel('Log of Transaction Amount')\n",
        "plt.ylabel('Count')\n",
        "plt.title('Distribution of Transaction Amounts by Fraud Status')\n",
        "plt.show()\n",
        "data.drop('log_trans_amt', axis=1, inplace=True)"
      ]
    },
    {
      "cell_type": "code",
      "source": [
        "data.head()"
      ],
      "metadata": {
        "colab": {
          "base_uri": "https://localhost:8080/",
          "height": 226
        },
        "id": "p3hakBm9lzr8",
        "outputId": "4a3c1034-db7f-46cb-e7da-b8bcf5a9dfbd"
      },
      "id": "p3hakBm9lzr8",
      "execution_count": 19,
      "outputs": [
        {
          "output_type": "execute_result",
          "data": {
            "text/plain": [
              "   time_step trans_type  trans_amt  old_orig_bal  new_orig_bal  old_dest_bal  \\\n",
              "0          1    PAYMENT    9839.64      170136.0     160296.36           0.0   \n",
              "1          1    PAYMENT    1864.28       21249.0      19384.72           0.0   \n",
              "2          1   TRANSFER     181.00         181.0          0.00           0.0   \n",
              "3          1   CASH_OUT     181.00         181.0          0.00       21182.0   \n",
              "4          1    PAYMENT   11668.14       41554.0      29885.86           0.0   \n",
              "\n",
              "   new_dest_bal  isFraud  isFlaggedFraud  isMerchant  \n",
              "0           0.0        0               0           1  \n",
              "1           0.0        0               0           1  \n",
              "2           0.0        1               0           0  \n",
              "3           0.0        1               0           0  \n",
              "4           0.0        0               0           1  "
            ],
            "text/html": [
              "\n",
              "  <div id=\"df-ad595f41-866c-4f43-9809-2bfa5ffd4c6e\" class=\"colab-df-container\">\n",
              "    <div>\n",
              "<style scoped>\n",
              "    .dataframe tbody tr th:only-of-type {\n",
              "        vertical-align: middle;\n",
              "    }\n",
              "\n",
              "    .dataframe tbody tr th {\n",
              "        vertical-align: top;\n",
              "    }\n",
              "\n",
              "    .dataframe thead th {\n",
              "        text-align: right;\n",
              "    }\n",
              "</style>\n",
              "<table border=\"1\" class=\"dataframe\">\n",
              "  <thead>\n",
              "    <tr style=\"text-align: right;\">\n",
              "      <th></th>\n",
              "      <th>time_step</th>\n",
              "      <th>trans_type</th>\n",
              "      <th>trans_amt</th>\n",
              "      <th>old_orig_bal</th>\n",
              "      <th>new_orig_bal</th>\n",
              "      <th>old_dest_bal</th>\n",
              "      <th>new_dest_bal</th>\n",
              "      <th>isFraud</th>\n",
              "      <th>isFlaggedFraud</th>\n",
              "      <th>isMerchant</th>\n",
              "    </tr>\n",
              "  </thead>\n",
              "  <tbody>\n",
              "    <tr>\n",
              "      <th>0</th>\n",
              "      <td>1</td>\n",
              "      <td>PAYMENT</td>\n",
              "      <td>9839.64</td>\n",
              "      <td>170136.0</td>\n",
              "      <td>160296.36</td>\n",
              "      <td>0.0</td>\n",
              "      <td>0.0</td>\n",
              "      <td>0</td>\n",
              "      <td>0</td>\n",
              "      <td>1</td>\n",
              "    </tr>\n",
              "    <tr>\n",
              "      <th>1</th>\n",
              "      <td>1</td>\n",
              "      <td>PAYMENT</td>\n",
              "      <td>1864.28</td>\n",
              "      <td>21249.0</td>\n",
              "      <td>19384.72</td>\n",
              "      <td>0.0</td>\n",
              "      <td>0.0</td>\n",
              "      <td>0</td>\n",
              "      <td>0</td>\n",
              "      <td>1</td>\n",
              "    </tr>\n",
              "    <tr>\n",
              "      <th>2</th>\n",
              "      <td>1</td>\n",
              "      <td>TRANSFER</td>\n",
              "      <td>181.00</td>\n",
              "      <td>181.0</td>\n",
              "      <td>0.00</td>\n",
              "      <td>0.0</td>\n",
              "      <td>0.0</td>\n",
              "      <td>1</td>\n",
              "      <td>0</td>\n",
              "      <td>0</td>\n",
              "    </tr>\n",
              "    <tr>\n",
              "      <th>3</th>\n",
              "      <td>1</td>\n",
              "      <td>CASH_OUT</td>\n",
              "      <td>181.00</td>\n",
              "      <td>181.0</td>\n",
              "      <td>0.00</td>\n",
              "      <td>21182.0</td>\n",
              "      <td>0.0</td>\n",
              "      <td>1</td>\n",
              "      <td>0</td>\n",
              "      <td>0</td>\n",
              "    </tr>\n",
              "    <tr>\n",
              "      <th>4</th>\n",
              "      <td>1</td>\n",
              "      <td>PAYMENT</td>\n",
              "      <td>11668.14</td>\n",
              "      <td>41554.0</td>\n",
              "      <td>29885.86</td>\n",
              "      <td>0.0</td>\n",
              "      <td>0.0</td>\n",
              "      <td>0</td>\n",
              "      <td>0</td>\n",
              "      <td>1</td>\n",
              "    </tr>\n",
              "  </tbody>\n",
              "</table>\n",
              "</div>\n",
              "    <div class=\"colab-df-buttons\">\n",
              "\n",
              "  <div class=\"colab-df-container\">\n",
              "    <button class=\"colab-df-convert\" onclick=\"convertToInteractive('df-ad595f41-866c-4f43-9809-2bfa5ffd4c6e')\"\n",
              "            title=\"Convert this dataframe to an interactive table.\"\n",
              "            style=\"display:none;\">\n",
              "\n",
              "  <svg xmlns=\"http://www.w3.org/2000/svg\" height=\"24px\" viewBox=\"0 -960 960 960\">\n",
              "    <path d=\"M120-120v-720h720v720H120Zm60-500h600v-160H180v160Zm220 220h160v-160H400v160Zm0 220h160v-160H400v160ZM180-400h160v-160H180v160Zm440 0h160v-160H620v160ZM180-180h160v-160H180v160Zm440 0h160v-160H620v160Z\"/>\n",
              "  </svg>\n",
              "    </button>\n",
              "\n",
              "  <style>\n",
              "    .colab-df-container {\n",
              "      display:flex;\n",
              "      gap: 12px;\n",
              "    }\n",
              "\n",
              "    .colab-df-convert {\n",
              "      background-color: #E8F0FE;\n",
              "      border: none;\n",
              "      border-radius: 50%;\n",
              "      cursor: pointer;\n",
              "      display: none;\n",
              "      fill: #1967D2;\n",
              "      height: 32px;\n",
              "      padding: 0 0 0 0;\n",
              "      width: 32px;\n",
              "    }\n",
              "\n",
              "    .colab-df-convert:hover {\n",
              "      background-color: #E2EBFA;\n",
              "      box-shadow: 0px 1px 2px rgba(60, 64, 67, 0.3), 0px 1px 3px 1px rgba(60, 64, 67, 0.15);\n",
              "      fill: #174EA6;\n",
              "    }\n",
              "\n",
              "    .colab-df-buttons div {\n",
              "      margin-bottom: 4px;\n",
              "    }\n",
              "\n",
              "    [theme=dark] .colab-df-convert {\n",
              "      background-color: #3B4455;\n",
              "      fill: #D2E3FC;\n",
              "    }\n",
              "\n",
              "    [theme=dark] .colab-df-convert:hover {\n",
              "      background-color: #434B5C;\n",
              "      box-shadow: 0px 1px 3px 1px rgba(0, 0, 0, 0.15);\n",
              "      filter: drop-shadow(0px 1px 2px rgba(0, 0, 0, 0.3));\n",
              "      fill: #FFFFFF;\n",
              "    }\n",
              "  </style>\n",
              "\n",
              "    <script>\n",
              "      const buttonEl =\n",
              "        document.querySelector('#df-ad595f41-866c-4f43-9809-2bfa5ffd4c6e button.colab-df-convert');\n",
              "      buttonEl.style.display =\n",
              "        google.colab.kernel.accessAllowed ? 'block' : 'none';\n",
              "\n",
              "      async function convertToInteractive(key) {\n",
              "        const element = document.querySelector('#df-ad595f41-866c-4f43-9809-2bfa5ffd4c6e');\n",
              "        const dataTable =\n",
              "          await google.colab.kernel.invokeFunction('convertToInteractive',\n",
              "                                                    [key], {});\n",
              "        if (!dataTable) return;\n",
              "\n",
              "        const docLinkHtml = 'Like what you see? Visit the ' +\n",
              "          '<a target=\"_blank\" href=https://colab.research.google.com/notebooks/data_table.ipynb>data table notebook</a>'\n",
              "          + ' to learn more about interactive tables.';\n",
              "        element.innerHTML = '';\n",
              "        dataTable['output_type'] = 'display_data';\n",
              "        await google.colab.output.renderOutput(dataTable, element);\n",
              "        const docLink = document.createElement('div');\n",
              "        docLink.innerHTML = docLinkHtml;\n",
              "        element.appendChild(docLink);\n",
              "      }\n",
              "    </script>\n",
              "  </div>\n",
              "\n",
              "\n",
              "<div id=\"df-a1b7e2a3-992e-4c6c-a5d2-2ee6e067cda2\">\n",
              "  <button class=\"colab-df-quickchart\" onclick=\"quickchart('df-a1b7e2a3-992e-4c6c-a5d2-2ee6e067cda2')\"\n",
              "            title=\"Suggest charts\"\n",
              "            style=\"display:none;\">\n",
              "\n",
              "<svg xmlns=\"http://www.w3.org/2000/svg\" height=\"24px\"viewBox=\"0 0 24 24\"\n",
              "     width=\"24px\">\n",
              "    <g>\n",
              "        <path d=\"M19 3H5c-1.1 0-2 .9-2 2v14c0 1.1.9 2 2 2h14c1.1 0 2-.9 2-2V5c0-1.1-.9-2-2-2zM9 17H7v-7h2v7zm4 0h-2V7h2v10zm4 0h-2v-4h2v4z\"/>\n",
              "    </g>\n",
              "</svg>\n",
              "  </button>\n",
              "\n",
              "<style>\n",
              "  .colab-df-quickchart {\n",
              "      --bg-color: #E8F0FE;\n",
              "      --fill-color: #1967D2;\n",
              "      --hover-bg-color: #E2EBFA;\n",
              "      --hover-fill-color: #174EA6;\n",
              "      --disabled-fill-color: #AAA;\n",
              "      --disabled-bg-color: #DDD;\n",
              "  }\n",
              "\n",
              "  [theme=dark] .colab-df-quickchart {\n",
              "      --bg-color: #3B4455;\n",
              "      --fill-color: #D2E3FC;\n",
              "      --hover-bg-color: #434B5C;\n",
              "      --hover-fill-color: #FFFFFF;\n",
              "      --disabled-bg-color: #3B4455;\n",
              "      --disabled-fill-color: #666;\n",
              "  }\n",
              "\n",
              "  .colab-df-quickchart {\n",
              "    background-color: var(--bg-color);\n",
              "    border: none;\n",
              "    border-radius: 50%;\n",
              "    cursor: pointer;\n",
              "    display: none;\n",
              "    fill: var(--fill-color);\n",
              "    height: 32px;\n",
              "    padding: 0;\n",
              "    width: 32px;\n",
              "  }\n",
              "\n",
              "  .colab-df-quickchart:hover {\n",
              "    background-color: var(--hover-bg-color);\n",
              "    box-shadow: 0 1px 2px rgba(60, 64, 67, 0.3), 0 1px 3px 1px rgba(60, 64, 67, 0.15);\n",
              "    fill: var(--button-hover-fill-color);\n",
              "  }\n",
              "\n",
              "  .colab-df-quickchart-complete:disabled,\n",
              "  .colab-df-quickchart-complete:disabled:hover {\n",
              "    background-color: var(--disabled-bg-color);\n",
              "    fill: var(--disabled-fill-color);\n",
              "    box-shadow: none;\n",
              "  }\n",
              "\n",
              "  .colab-df-spinner {\n",
              "    border: 2px solid var(--fill-color);\n",
              "    border-color: transparent;\n",
              "    border-bottom-color: var(--fill-color);\n",
              "    animation:\n",
              "      spin 1s steps(1) infinite;\n",
              "  }\n",
              "\n",
              "  @keyframes spin {\n",
              "    0% {\n",
              "      border-color: transparent;\n",
              "      border-bottom-color: var(--fill-color);\n",
              "      border-left-color: var(--fill-color);\n",
              "    }\n",
              "    20% {\n",
              "      border-color: transparent;\n",
              "      border-left-color: var(--fill-color);\n",
              "      border-top-color: var(--fill-color);\n",
              "    }\n",
              "    30% {\n",
              "      border-color: transparent;\n",
              "      border-left-color: var(--fill-color);\n",
              "      border-top-color: var(--fill-color);\n",
              "      border-right-color: var(--fill-color);\n",
              "    }\n",
              "    40% {\n",
              "      border-color: transparent;\n",
              "      border-right-color: var(--fill-color);\n",
              "      border-top-color: var(--fill-color);\n",
              "    }\n",
              "    60% {\n",
              "      border-color: transparent;\n",
              "      border-right-color: var(--fill-color);\n",
              "    }\n",
              "    80% {\n",
              "      border-color: transparent;\n",
              "      border-right-color: var(--fill-color);\n",
              "      border-bottom-color: var(--fill-color);\n",
              "    }\n",
              "    90% {\n",
              "      border-color: transparent;\n",
              "      border-bottom-color: var(--fill-color);\n",
              "    }\n",
              "  }\n",
              "</style>\n",
              "\n",
              "  <script>\n",
              "    async function quickchart(key) {\n",
              "      const quickchartButtonEl =\n",
              "        document.querySelector('#' + key + ' button');\n",
              "      quickchartButtonEl.disabled = true;  // To prevent multiple clicks.\n",
              "      quickchartButtonEl.classList.add('colab-df-spinner');\n",
              "      try {\n",
              "        const charts = await google.colab.kernel.invokeFunction(\n",
              "            'suggestCharts', [key], {});\n",
              "      } catch (error) {\n",
              "        console.error('Error during call to suggestCharts:', error);\n",
              "      }\n",
              "      quickchartButtonEl.classList.remove('colab-df-spinner');\n",
              "      quickchartButtonEl.classList.add('colab-df-quickchart-complete');\n",
              "    }\n",
              "    (() => {\n",
              "      let quickchartButtonEl =\n",
              "        document.querySelector('#df-a1b7e2a3-992e-4c6c-a5d2-2ee6e067cda2 button');\n",
              "      quickchartButtonEl.style.display =\n",
              "        google.colab.kernel.accessAllowed ? 'block' : 'none';\n",
              "    })();\n",
              "  </script>\n",
              "</div>\n",
              "\n",
              "    </div>\n",
              "  </div>\n"
            ],
            "application/vnd.google.colaboratory.intrinsic+json": {
              "type": "dataframe",
              "variable_name": "data"
            }
          },
          "metadata": {},
          "execution_count": 19
        }
      ]
    },
    {
      "cell_type": "markdown",
      "id": "d836c386",
      "metadata": {
        "id": "d836c386"
      },
      "source": [
        "## Multivariate Analysis"
      ]
    },
    {
      "cell_type": "code",
      "execution_count": 20,
      "id": "50832129",
      "metadata": {
        "id": "50832129"
      },
      "outputs": [],
      "source": [
        "numeric = [col for col in data.columns if data[col].dtype in ['int64', 'float64']]\n",
        "numeric.remove('isFraud')\n",
        "categoric = [col for col in data.columns if data[col].dtype == 'object']"
      ]
    },
    {
      "cell_type": "markdown",
      "id": "29609156",
      "metadata": {
        "id": "29609156"
      },
      "source": [
        "It seems that white blood cell count and Alanine Aminotransferase (U/L)\n",
        "have little or no effect on disease possibility"
      ]
    },
    {
      "cell_type": "code",
      "execution_count": 21,
      "id": "0f3b740e",
      "metadata": {
        "colab": {
          "base_uri": "https://localhost:8080/",
          "height": 544
        },
        "id": "0f3b740e",
        "outputId": "e919f171-0926-4418-bbb4-4077bd3dd6fb"
      },
      "outputs": [
        {
          "output_type": "execute_result",
          "data": {
            "text/plain": [
              "<Axes: >"
            ]
          },
          "metadata": {},
          "execution_count": 21
        },
        {
          "output_type": "display_data",
          "data": {
            "text/plain": [
              "<Figure size 640x480 with 2 Axes>"
            ],
            "image/png": "[encoded data removed]"
          },
          "metadata": {}
        }
      ],
      "source": [
        "# correlation heatmap df\n",
        "correlation = data[numeric].corr()\n",
        "sns.heatmap(correlation, annot=True, fmt='.2f')"
      ]
    },
    {
      "cell_type": "code",
      "execution_count": 22,
      "id": "3dbd6422",
      "metadata": {
        "colab": {
          "base_uri": "https://localhost:8080/"
        },
        "id": "3dbd6422",
        "outputId": "486c3ee7-e7eb-432e-8494-d02c269940f3"
      },
      "outputs": [
        {
          "output_type": "stream",
          "name": "stdout",
          "text": [
            "old_orig_bal - new_orig_bal Correlation: 0.9988027631723787\n",
            "old_dest_bal - new_dest_bal Correlation: 0.9765685054474923\n"
          ]
        }
      ],
      "source": [
        "# correlation heatmap df\n",
        "correlation = data[numeric].corr()\n",
        "\n",
        "# Get column pairs with correlation > 0.5\n",
        "high_corr_pairs = []\n",
        "for i in range(len(correlation.columns)):\n",
        "    for j in range(i+1, len(correlation.columns)):\n",
        "        if abs(correlation.iloc[i, j]) > 0.5:\n",
        "            high_corr_pairs.append((correlation.columns[i], correlation.columns[j], correlation.iloc[i, j]))\n",
        "\n",
        "# Check if there are high correlation pairs\n",
        "if high_corr_pairs:\n",
        "    # Print column pairs with correlation > 0.5 and their correlation values\n",
        "    for pair in high_corr_pairs:\n",
        "        print(pair[0], \"-\", pair[1], \"Correlation:\", pair[2])\n",
        "else:\n",
        "    print(\"No high correlation columns\")"
      ]
    },
    {
      "cell_type": "markdown",
      "id": "7baf205f",
      "metadata": {
        "id": "7baf205f"
      },
      "source": [
        "these variables have a very high correlation"
      ]
    },
    {
      "cell_type": "code",
      "execution_count": 23,
      "id": "28a2f1d7",
      "metadata": {
        "id": "28a2f1d7"
      },
      "outputs": [],
      "source": [
        "# so we will drop one from each pair\n",
        "data.drop(columns=['old_orig_bal', 'old_dest_bal'], inplace=True)"
      ]
    },
    {
      "cell_type": "code",
      "execution_count": 24,
      "id": "1ffe32f8",
      "metadata": {
        "colab": {
          "base_uri": "https://localhost:8080/",
          "height": 391
        },
        "id": "1ffe32f8",
        "outputId": "b072332c-319a-4bbe-e580-f6c73aa96ddb"
      },
      "outputs": [
        {
          "output_type": "display_data",
          "data": {
            "text/plain": [
              "<Figure size 2000x800 with 8 Axes>"
            ],
            "image/png": "[encoded data removed]"
          },
          "metadata": {}
        }
      ],
      "source": [
        "numeric = [col for col in data.columns if data[col].dtype in ['int64', 'float64']]\n",
        "numeric.remove('isFraud')\n",
        "\n",
        "color = ('#40DFEF', '#E78EA9')\n",
        "fig, ax = plt.subplots(2, 4, figsize=(20,8))\n",
        "\n",
        "# Flatten the axes array for easier indexing in the loop\n",
        "ax_flat = ax.flatten()\n",
        "\n",
        "for i, p in enumerate(numeric):\n",
        "    sns.boxplot(data=data, x='isFraud', y=p, ax=ax_flat[i], palette=color)\n",
        "    ax_flat[i].set_title(p)\n",
        "\n",
        "plt.tight_layout()\n",
        "plt.show()"
      ]
    },
    {
      "cell_type": "markdown",
      "id": "f5fb96ca",
      "metadata": {
        "id": "f5fb96ca"
      },
      "source": [
        "## Hypothesis validation\n",
        "\n",
        "## Statistical Normality Tests\n",
        "\n",
        "Normality tests are used to determine if a dataset is normally distributed about the mean value. it is assumed that during any measurement values will follow a normal distribution with an equal number of measurements above and below the mean value.\n",
        "\n",
        "on the other hand, Gaussian distribution is a continuous probability distribution with symmetrical sides around its center. Its mean, median and mode are equal.\n",
        "\n",
        "Popular normality tests - D’Agostino’s K^2, Shapiro-Wilk, Anderson-Darling .\n",
        "\n",
        "### D’Agostino’s K^2 Test"
      ]
    },
    {
      "cell_type": "code",
      "execution_count": 25,
      "id": "eafe349b",
      "metadata": {
        "colab": {
          "base_uri": "https://localhost:8080/"
        },
        "id": "eafe349b",
        "outputId": "75936513-970e-49d2-864c-4a6ee07b0dda"
      },
      "outputs": [
        {
          "output_type": "stream",
          "name": "stdout",
          "text": [
            "does not look Gaussian (reject H0) for this column: time_step\n",
            "does not look Gaussian (reject H0) for this column: trans_amt\n",
            "does not look Gaussian (reject H0) for this column: new_orig_bal\n",
            "does not look Gaussian (reject H0) for this column: new_dest_bal\n",
            "does not look Gaussian (reject H0) for this column: isFraud\n",
            "does not look Gaussian (reject H0) for this column: isFlaggedFraud\n",
            "does not look Gaussian (reject H0) for this column: isMerchant\n"
          ]
        }
      ],
      "source": [
        "numeric = [col for col in data.columns if data[col].dtype in ['int64', 'float64']]\n",
        "for col in data[numeric]:\n",
        "    stat, p = stats.normaltest(data[col])\n",
        "    # print('Statistics=%.5f, p=%.3f' % (stat, p))\n",
        "\n",
        "    # interpret\n",
        "    alpha = 0.05\n",
        "    if p > alpha:\n",
        "        print(f'looks Gaussian (fail to reject H0) for this column: {col}')\n",
        "    else:\n",
        "        print(f'does not look Gaussian (reject H0) for this column: {col}')\n"
      ]
    },
    {
      "cell_type": "markdown",
      "id": "16fca39d",
      "metadata": {
        "id": "16fca39d"
      },
      "source": [
        "# Feature Processing & Engineering"
      ]
    },
    {
      "cell_type": "markdown",
      "id": "bcdac66c",
      "metadata": {
        "id": "bcdac66c"
      },
      "source": [
        "## Drop Duplicates"
      ]
    },
    {
      "cell_type": "code",
      "execution_count": 26,
      "id": "eff2a874",
      "metadata": {
        "colab": {
          "base_uri": "https://localhost:8080/"
        },
        "id": "eff2a874",
        "outputId": "077ce930-7b49-4dc0-ee40-329819eba7b3"
      },
      "outputs": [
        {
          "output_type": "execute_result",
          "data": {
            "text/plain": [
              "(6362620, 8)"
            ]
          },
          "metadata": {},
          "execution_count": 26
        }
      ],
      "source": [
        "data.shape"
      ]
    },
    {
      "cell_type": "code",
      "execution_count": 27,
      "id": "4de55688",
      "metadata": {
        "colab": {
          "base_uri": "https://localhost:8080/"
        },
        "id": "4de55688",
        "outputId": "e6e363d6-f1bd-41db-bcdb-15425431e9a2"
      },
      "outputs": [
        {
          "output_type": "execute_result",
          "data": {
            "text/plain": [
              "1975"
            ]
          },
          "metadata": {},
          "execution_count": 27
        }
      ],
      "source": [
        "data.duplicated().sum()"
      ]
    },
    {
      "cell_type": "markdown",
      "id": "8790bea1",
      "metadata": {
        "id": "8790bea1"
      },
      "source": [
        "let's have a closer look at the duplicates"
      ]
    },
    {
      "cell_type": "code",
      "execution_count": 28,
      "id": "7774c081",
      "metadata": {
        "colab": {
          "base_uri": "https://localhost:8080/"
        },
        "id": "7774c081",
        "outputId": "d927a46c-4e22-4c87-f5e9-c06a9359c551"
      },
      "outputs": [
        {
          "output_type": "execute_result",
          "data": {
            "text/plain": [
              "array(['PAYMENT', 'TRANSFER', 'CASH_OUT', 'DEBIT', 'CASH_IN'],\n",
              "      dtype=object)"
            ]
          },
          "metadata": {},
          "execution_count": 28
        }
      ],
      "source": [
        "data['trans_type'].unique()"
      ]
    },
    {
      "cell_type": "code",
      "execution_count": 29,
      "id": "b8ab7292",
      "metadata": {
        "colab": {
          "base_uri": "https://localhost:8080/",
          "height": 739
        },
        "id": "b8ab7292",
        "outputId": "74010068-3f58-422f-f76e-d07291cfd78a"
      },
      "outputs": [
        {
          "output_type": "execute_result",
          "data": {
            "text/plain": [
              "        time_step trans_type  trans_amt  new_orig_bal  new_dest_bal  isFraud  \\\n",
              "11104           7    PAYMENT    1849.50           0.0           0.0        0   \n",
              "26143           8    PAYMENT    1433.34           0.0           0.0        0   \n",
              "33556           8    PAYMENT    7759.31           0.0           0.0        0   \n",
              "51742           9    PAYMENT   28319.01           0.0           0.0        0   \n",
              "59969           9    PAYMENT    2388.93           0.0           0.0        0   \n",
              "60370           9    PAYMENT   12099.17           0.0           0.0        0   \n",
              "60763           9    PAYMENT   10042.85           0.0           0.0        0   \n",
              "63096           9    PAYMENT    2783.83           0.0           0.0        0   \n",
              "66667           9    PAYMENT    9494.15           0.0           0.0        0   \n",
              "69138           9    PAYMENT    6755.57           0.0           0.0        0   \n",
              "72575           9    PAYMENT    6499.28           0.0           0.0        0   \n",
              "80737          10    PAYMENT   21758.90           0.0           0.0        0   \n",
              "82632          10    PAYMENT   25948.57           0.0           0.0        0   \n",
              "96959          10    PAYMENT    1836.59           0.0           0.0        0   \n",
              "98885          10    PAYMENT    8837.91           0.0           0.0        0   \n",
              "100707         10    PAYMENT   24598.54           0.0           0.0        0   \n",
              "104645         10    PAYMENT    6775.92           0.0           0.0        0   \n",
              "105715         10    PAYMENT    3237.54           0.0           0.0        0   \n",
              "120246         11    PAYMENT    2041.31           0.0           0.0        0   \n",
              "125493         11    PAYMENT   16934.00           0.0           0.0        0   \n",
              "131202         11    PAYMENT    2082.03           0.0           0.0        0   \n",
              "136291         11    PAYMENT    2869.39           0.0           0.0        0   \n",
              "\n",
              "        isFlaggedFraud  isMerchant  \n",
              "11104                0           1  \n",
              "26143                0           1  \n",
              "33556                0           1  \n",
              "51742                0           1  \n",
              "59969                0           1  \n",
              "60370                0           1  \n",
              "60763                0           1  \n",
              "63096                0           1  \n",
              "66667                0           1  \n",
              "69138                0           1  \n",
              "72575                0           1  \n",
              "80737                0           1  \n",
              "82632                0           1  \n",
              "96959                0           1  \n",
              "98885                0           1  \n",
              "100707               0           1  \n",
              "104645               0           1  \n",
              "105715               0           1  \n",
              "120246               0           1  \n",
              "125493               0           1  \n",
              "131202               0           1  \n",
              "136291               0           1  "
            ],
            "text/html": [
              "\n",
              "  <div id=\"df-1d504da1-0eb4-402c-8352-bd0b60269a08\" class=\"colab-df-container\">\n",
              "    <div>\n",
              "<style scoped>\n",
              "    .dataframe tbody tr th:only-of-type {\n",
              "        vertical-align: middle;\n",
              "    }\n",
              "\n",
              "    .dataframe tbody tr th {\n",
              "        vertical-align: top;\n",
              "    }\n",
              "\n",
              "    .dataframe thead th {\n",
              "        text-align: right;\n",
              "    }\n",
              "</style>\n",
              "<table border=\"1\" class=\"dataframe\">\n",
              "  <thead>\n",
              "    <tr style=\"text-align: right;\">\n",
              "      <th></th>\n",
              "      <th>time_step</th>\n",
              "      <th>trans_type</th>\n",
              "      <th>trans_amt</th>\n",
              "      <th>new_orig_bal</th>\n",
              "      <th>new_dest_bal</th>\n",
              "      <th>isFraud</th>\n",
              "      <th>isFlaggedFraud</th>\n",
              "      <th>isMerchant</th>\n",
              "    </tr>\n",
              "  </thead>\n",
              "  <tbody>\n",
              "    <tr>\n",
              "      <th>11104</th>\n",
              "      <td>7</td>\n",
              "      <td>PAYMENT</td>\n",
              "      <td>1849.50</td>\n",
              "      <td>0.0</td>\n",
              "      <td>0.0</td>\n",
              "      <td>0</td>\n",
              "      <td>0</td>\n",
              "      <td>1</td>\n",
              "    </tr>\n",
              "    <tr>\n",
              "      <th>26143</th>\n",
              "      <td>8</td>\n",
              "      <td>PAYMENT</td>\n",
              "      <td>1433.34</td>\n",
              "      <td>0.0</td>\n",
              "      <td>0.0</td>\n",
              "      <td>0</td>\n",
              "      <td>0</td>\n",
              "      <td>1</td>\n",
              "    </tr>\n",
              "    <tr>\n",
              "      <th>33556</th>\n",
              "      <td>8</td>\n",
              "      <td>PAYMENT</td>\n",
              "      <td>7759.31</td>\n",
              "      <td>0.0</td>\n",
              "      <td>0.0</td>\n",
              "      <td>0</td>\n",
              "      <td>0</td>\n",
              "      <td>1</td>\n",
              "    </tr>\n",
              "    <tr>\n",
              "      <th>51742</th>\n",
              "      <td>9</td>\n",
              "      <td>PAYMENT</td>\n",
              "      <td>28319.01</td>\n",
              "      <td>0.0</td>\n",
              "      <td>0.0</td>\n",
              "      <td>0</td>\n",
              "      <td>0</td>\n",
              "      <td>1</td>\n",
              "    </tr>\n",
              "    <tr>\n",
              "      <th>59969</th>\n",
              "      <td>9</td>\n",
              "      <td>PAYMENT</td>\n",
              "      <td>2388.93</td>\n",
              "      <td>0.0</td>\n",
              "      <td>0.0</td>\n",
              "      <td>0</td>\n",
              "      <td>0</td>\n",
              "      <td>1</td>\n",
              "    </tr>\n",
              "    <tr>\n",
              "      <th>60370</th>\n",
              "      <td>9</td>\n",
              "      <td>PAYMENT</td>\n",
              "      <td>12099.17</td>\n",
              "      <td>0.0</td>\n",
              "      <td>0.0</td>\n",
              "      <td>0</td>\n",
              "      <td>0</td>\n",
              "      <td>1</td>\n",
              "    </tr>\n",
              "    <tr>\n",
              "      <th>60763</th>\n",
              "      <td>9</td>\n",
              "      <td>PAYMENT</td>\n",
              "      <td>10042.85</td>\n",
              "      <td>0.0</td>\n",
              "      <td>0.0</td>\n",
              "      <td>0</td>\n",
              "      <td>0</td>\n",
              "      <td>1</td>\n",
              "    </tr>\n",
              "    <tr>\n",
              "      <th>63096</th>\n",
              "      <td>9</td>\n",
              "      <td>PAYMENT</td>\n",
              "      <td>2783.83</td>\n",
              "      <td>0.0</td>\n",
              "      <td>0.0</td>\n",
              "      <td>0</td>\n",
              "      <td>0</td>\n",
              "      <td>1</td>\n",
              "    </tr>\n",
              "    <tr>\n",
              "      <th>66667</th>\n",
              "      <td>9</td>\n",
              "      <td>PAYMENT</td>\n",
              "      <td>9494.15</td>\n",
              "      <td>0.0</td>\n",
              "      <td>0.0</td>\n",
              "      <td>0</td>\n",
              "      <td>0</td>\n",
              "      <td>1</td>\n",
              "    </tr>\n",
              "    <tr>\n",
              "      <th>69138</th>\n",
              "      <td>9</td>\n",
              "      <td>PAYMENT</td>\n",
              "      <td>6755.57</td>\n",
              "      <td>0.0</td>\n",
              "      <td>0.0</td>\n",
              "      <td>0</td>\n",
              "      <td>0</td>\n",
              "      <td>1</td>\n",
              "    </tr>\n",
              "    <tr>\n",
              "      <th>72575</th>\n",
              "      <td>9</td>\n",
              "      <td>PAYMENT</td>\n",
              "      <td>6499.28</td>\n",
              "      <td>0.0</td>\n",
              "      <td>0.0</td>\n",
              "      <td>0</td>\n",
              "      <td>0</td>\n",
              "      <td>1</td>\n",
              "    </tr>\n",
              "    <tr>\n",
              "      <th>80737</th>\n",
              "      <td>10</td>\n",
              "      <td>PAYMENT</td>\n",
              "      <td>21758.90</td>\n",
              "      <td>0.0</td>\n",
              "      <td>0.0</td>\n",
              "      <td>0</td>\n",
              "      <td>0</td>\n",
              "      <td>1</td>\n",
              "    </tr>\n",
              "    <tr>\n",
              "      <th>82632</th>\n",
              "      <td>10</td>\n",
              "      <td>PAYMENT</td>\n",
              "      <td>25948.57</td>\n",
              "      <td>0.0</td>\n",
              "      <td>0.0</td>\n",
              "      <td>0</td>\n",
              "      <td>0</td>\n",
              "      <td>1</td>\n",
              "    </tr>\n",
              "    <tr>\n",
              "      <th>96959</th>\n",
              "      <td>10</td>\n",
              "      <td>PAYMENT</td>\n",
              "      <td>1836.59</td>\n",
              "      <td>0.0</td>\n",
              "      <td>0.0</td>\n",
              "      <td>0</td>\n",
              "      <td>0</td>\n",
              "      <td>1</td>\n",
              "    </tr>\n",
              "    <tr>\n",
              "      <th>98885</th>\n",
              "      <td>10</td>\n",
              "      <td>PAYMENT</td>\n",
              "      <td>8837.91</td>\n",
              "      <td>0.0</td>\n",
              "      <td>0.0</td>\n",
              "      <td>0</td>\n",
              "      <td>0</td>\n",
              "      <td>1</td>\n",
              "    </tr>\n",
              "    <tr>\n",
              "      <th>100707</th>\n",
              "      <td>10</td>\n",
              "      <td>PAYMENT</td>\n",
              "      <td>24598.54</td>\n",
              "      <td>0.0</td>\n",
              "      <td>0.0</td>\n",
              "      <td>0</td>\n",
              "      <td>0</td>\n",
              "      <td>1</td>\n",
              "    </tr>\n",
              "    <tr>\n",
              "      <th>104645</th>\n",
              "      <td>10</td>\n",
              "      <td>PAYMENT</td>\n",
              "      <td>6775.92</td>\n",
              "      <td>0.0</td>\n",
              "      <td>0.0</td>\n",
              "      <td>0</td>\n",
              "      <td>0</td>\n",
              "      <td>1</td>\n",
              "    </tr>\n",
              "    <tr>\n",
              "      <th>105715</th>\n",
              "      <td>10</td>\n",
              "      <td>PAYMENT</td>\n",
              "      <td>3237.54</td>\n",
              "      <td>0.0</td>\n",
              "      <td>0.0</td>\n",
              "      <td>0</td>\n",
              "      <td>0</td>\n",
              "      <td>1</td>\n",
              "    </tr>\n",
              "    <tr>\n",
              "      <th>120246</th>\n",
              "      <td>11</td>\n",
              "      <td>PAYMENT</td>\n",
              "      <td>2041.31</td>\n",
              "      <td>0.0</td>\n",
              "      <td>0.0</td>\n",
              "      <td>0</td>\n",
              "      <td>0</td>\n",
              "      <td>1</td>\n",
              "    </tr>\n",
              "    <tr>\n",
              "      <th>125493</th>\n",
              "      <td>11</td>\n",
              "      <td>PAYMENT</td>\n",
              "      <td>16934.00</td>\n",
              "      <td>0.0</td>\n",
              "      <td>0.0</td>\n",
              "      <td>0</td>\n",
              "      <td>0</td>\n",
              "      <td>1</td>\n",
              "    </tr>\n",
              "    <tr>\n",
              "      <th>131202</th>\n",
              "      <td>11</td>\n",
              "      <td>PAYMENT</td>\n",
              "      <td>2082.03</td>\n",
              "      <td>0.0</td>\n",
              "      <td>0.0</td>\n",
              "      <td>0</td>\n",
              "      <td>0</td>\n",
              "      <td>1</td>\n",
              "    </tr>\n",
              "    <tr>\n",
              "      <th>136291</th>\n",
              "      <td>11</td>\n",
              "      <td>PAYMENT</td>\n",
              "      <td>2869.39</td>\n",
              "      <td>0.0</td>\n",
              "      <td>0.0</td>\n",
              "      <td>0</td>\n",
              "      <td>0</td>\n",
              "      <td>1</td>\n",
              "    </tr>\n",
              "  </tbody>\n",
              "</table>\n",
              "</div>\n",
              "    <div class=\"colab-df-buttons\">\n",
              "\n",
              "  <div class=\"colab-df-container\">\n",
              "    <button class=\"colab-df-convert\" onclick=\"convertToInteractive('df-1d504da1-0eb4-402c-8352-bd0b60269a08')\"\n",
              "            title=\"Convert this dataframe to an interactive table.\"\n",
              "            style=\"display:none;\">\n",
              "\n",
              "  <svg xmlns=\"http://www.w3.org/2000/svg\" height=\"24px\" viewBox=\"0 -960 960 960\">\n",
              "    <path d=\"M120-120v-720h720v720H120Zm60-500h600v-160H180v160Zm220 220h160v-160H400v160Zm0 220h160v-160H400v160ZM180-400h160v-160H180v160Zm440 0h160v-160H620v160ZM180-180h160v-160H180v160Zm440 0h160v-160H620v160Z\"/>\n",
              "  </svg>\n",
              "    </button>\n",
              "\n",
              "  <style>\n",
              "    .colab-df-container {\n",
              "      display:flex;\n",
              "      gap: 12px;\n",
              "    }\n",
              "\n",
              "    .colab-df-convert {\n",
              "      background-color: #E8F0FE;\n",
              "      border: none;\n",
              "      border-radius: 50%;\n",
              "      cursor: pointer;\n",
              "      display: none;\n",
              "      fill: #1967D2;\n",
              "      height: 32px;\n",
              "      padding: 0 0 0 0;\n",
              "      width: 32px;\n",
              "    }\n",
              "\n",
              "    .colab-df-convert:hover {\n",
              "      background-color: #E2EBFA;\n",
              "      box-shadow: 0px 1px 2px rgba(60, 64, 67, 0.3), 0px 1px 3px 1px rgba(60, 64, 67, 0.15);\n",
              "      fill: #174EA6;\n",
              "    }\n",
              "\n",
              "    .colab-df-buttons div {\n",
              "      margin-bottom: 4px;\n",
              "    }\n",
              "\n",
              "    [theme=dark] .colab-df-convert {\n",
              "      background-color: #3B4455;\n",
              "      fill: #D2E3FC;\n",
              "    }\n",
              "\n",
              "    [theme=dark] .colab-df-convert:hover {\n",
              "      background-color: #434B5C;\n",
              "      box-shadow: 0px 1px 3px 1px rgba(0, 0, 0, 0.15);\n",
              "      filter: drop-shadow(0px 1px 2px rgba(0, 0, 0, 0.3));\n",
              "      fill: #FFFFFF;\n",
              "    }\n",
              "  </style>\n",
              "\n",
              "    <script>\n",
              "      const buttonEl =\n",
              "        document.querySelector('#df-1d504da1-0eb4-402c-8352-bd0b60269a08 button.colab-df-convert');\n",
              "      buttonEl.style.display =\n",
              "        google.colab.kernel.accessAllowed ? 'block' : 'none';\n",
              "\n",
              "      async function convertToInteractive(key) {\n",
              "        const element = document.querySelector('#df-1d504da1-0eb4-402c-8352-bd0b60269a08');\n",
              "        const dataTable =\n",
              "          await google.colab.kernel.invokeFunction('convertToInteractive',\n",
              "                                                    [key], {});\n",
              "        if (!dataTable) return;\n",
              "\n",
              "        const docLinkHtml = 'Like what you see? Visit the ' +\n",
              "          '<a target=\"_blank\" href=https://colab.research.google.com/notebooks/data_table.ipynb>data table notebook</a>'\n",
              "          + ' to learn more about interactive tables.';\n",
              "        element.innerHTML = '';\n",
              "        dataTable['output_type'] = 'display_data';\n",
              "        await google.colab.output.renderOutput(dataTable, element);\n",
              "        const docLink = document.createElement('div');\n",
              "        docLink.innerHTML = docLinkHtml;\n",
              "        element.appendChild(docLink);\n",
              "      }\n",
              "    </script>\n",
              "  </div>\n",
              "\n",
              "\n",
              "<div id=\"df-6a5fe4f2-f295-457e-9722-d2d82a4c587d\">\n",
              "  <button class=\"colab-df-quickchart\" onclick=\"quickchart('df-6a5fe4f2-f295-457e-9722-d2d82a4c587d')\"\n",
              "            title=\"Suggest charts\"\n",
              "            style=\"display:none;\">\n",
              "\n",
              "<svg xmlns=\"http://www.w3.org/2000/svg\" height=\"24px\"viewBox=\"0 0 24 24\"\n",
              "     width=\"24px\">\n",
              "    <g>\n",
              "        <path d=\"M19 3H5c-1.1 0-2 .9-2 2v14c0 1.1.9 2 2 2h14c1.1 0 2-.9 2-2V5c0-1.1-.9-2-2-2zM9 17H7v-7h2v7zm4 0h-2V7h2v10zm4 0h-2v-4h2v4z\"/>\n",
              "    </g>\n",
              "</svg>\n",
              "  </button>\n",
              "\n",
              "<style>\n",
              "  .colab-df-quickchart {\n",
              "      --bg-color: #E8F0FE;\n",
              "      --fill-color: #1967D2;\n",
              "      --hover-bg-color: #E2EBFA;\n",
              "      --hover-fill-color: #174EA6;\n",
              "      --disabled-fill-color: #AAA;\n",
              "      --disabled-bg-color: #DDD;\n",
              "  }\n",
              "\n",
              "  [theme=dark] .colab-df-quickchart {\n",
              "      --bg-color: #3B4455;\n",
              "      --fill-color: #D2E3FC;\n",
              "      --hover-bg-color: #434B5C;\n",
              "      --hover-fill-color: #FFFFFF;\n",
              "      --disabled-bg-color: #3B4455;\n",
              "      --disabled-fill-color: #666;\n",
              "  }\n",
              "\n",
              "  .colab-df-quickchart {\n",
              "    background-color: var(--bg-color);\n",
              "    border: none;\n",
              "    border-radius: 50%;\n",
              "    cursor: pointer;\n",
              "    display: none;\n",
              "    fill: var(--fill-color);\n",
              "    height: 32px;\n",
              "    padding: 0;\n",
              "    width: 32px;\n",
              "  }\n",
              "\n",
              "  .colab-df-quickchart:hover {\n",
              "    background-color: var(--hover-bg-color);\n",
              "    box-shadow: 0 1px 2px rgba(60, 64, 67, 0.3), 0 1px 3px 1px rgba(60, 64, 67, 0.15);\n",
              "    fill: var(--button-hover-fill-color);\n",
              "  }\n",
              "\n",
              "  .colab-df-quickchart-complete:disabled,\n",
              "  .colab-df-quickchart-complete:disabled:hover {\n",
              "    background-color: var(--disabled-bg-color);\n",
              "    fill: var(--disabled-fill-color);\n",
              "    box-shadow: none;\n",
              "  }\n",
              "\n",
              "  .colab-df-spinner {\n",
              "    border: 2px solid var(--fill-color);\n",
              "    border-color: transparent;\n",
              "    border-bottom-color: var(--fill-color);\n",
              "    animation:\n",
              "      spin 1s steps(1) infinite;\n",
              "  }\n",
              "\n",
              "  @keyframes spin {\n",
              "    0% {\n",
              "      border-color: transparent;\n",
              "      border-bottom-color: var(--fill-color);\n",
              "      border-left-color: var(--fill-color);\n",
              "    }\n",
              "    20% {\n",
              "      border-color: transparent;\n",
              "      border-left-color: var(--fill-color);\n",
              "      border-top-color: var(--fill-color);\n",
              "    }\n",
              "    30% {\n",
              "      border-color: transparent;\n",
              "      border-left-color: var(--fill-color);\n",
              "      border-top-color: var(--fill-color);\n",
              "      border-right-color: var(--fill-color);\n",
              "    }\n",
              "    40% {\n",
              "      border-color: transparent;\n",
              "      border-right-color: var(--fill-color);\n",
              "      border-top-color: var(--fill-color);\n",
              "    }\n",
              "    60% {\n",
              "      border-color: transparent;\n",
              "      border-right-color: var(--fill-color);\n",
              "    }\n",
              "    80% {\n",
              "      border-color: transparent;\n",
              "      border-right-color: var(--fill-color);\n",
              "      border-bottom-color: var(--fill-color);\n",
              "    }\n",
              "    90% {\n",
              "      border-color: transparent;\n",
              "      border-bottom-color: var(--fill-color);\n",
              "    }\n",
              "  }\n",
              "</style>\n",
              "\n",
              "  <script>\n",
              "    async function quickchart(key) {\n",
              "      const quickchartButtonEl =\n",
              "        document.querySelector('#' + key + ' button');\n",
              "      quickchartButtonEl.disabled = true;  // To prevent multiple clicks.\n",
              "      quickchartButtonEl.classList.add('colab-df-spinner');\n",
              "      try {\n",
              "        const charts = await google.colab.kernel.invokeFunction(\n",
              "            'suggestCharts', [key], {});\n",
              "      } catch (error) {\n",
              "        console.error('Error during call to suggestCharts:', error);\n",
              "      }\n",
              "      quickchartButtonEl.classList.remove('colab-df-spinner');\n",
              "      quickchartButtonEl.classList.add('colab-df-quickchart-complete');\n",
              "    }\n",
              "    (() => {\n",
              "      let quickchartButtonEl =\n",
              "        document.querySelector('#df-6a5fe4f2-f295-457e-9722-d2d82a4c587d button');\n",
              "      quickchartButtonEl.style.display =\n",
              "        google.colab.kernel.accessAllowed ? 'block' : 'none';\n",
              "    })();\n",
              "  </script>\n",
              "</div>\n",
              "\n",
              "    </div>\n",
              "  </div>\n"
            ],
            "application/vnd.google.colaboratory.intrinsic+json": {
              "type": "dataframe",
              "variable_name": "dup",
              "summary": "{\n  \"name\": \"dup\",\n  \"rows\": 1975,\n  \"fields\": [\n    {\n      \"column\": \"time_step\",\n      \"properties\": {\n        \"dtype\": \"number\",\n        \"std\": 99,\n        \"min\": 7,\n        \"max\": 741,\n        \"num_unique_values\": 206,\n        \"samples\": [\n          23,\n          16,\n          646\n        ],\n        \"semantic_type\": \"\",\n        \"description\": \"\"\n      }\n    },\n    {\n      \"column\": \"trans_type\",\n      \"properties\": {\n        \"dtype\": \"category\",\n        \"num_unique_values\": 3,\n        \"samples\": [\n          \"PAYMENT\",\n          \"CASH_OUT\",\n          \"TRANSFER\"\n        ],\n        \"semantic_type\": \"\",\n        \"description\": \"\"\n      }\n    },\n    {\n      \"column\": \"trans_amt\",\n      \"properties\": {\n        \"dtype\": \"number\",\n        \"std\": 4967486.044391661,\n        \"min\": 0.0,\n        \"max\": 10000000.0,\n        \"num_unique_values\": 881,\n        \"samples\": [\n          12978.66,\n          12197.13,\n          1318.88\n        ],\n        \"semantic_type\": \"\",\n        \"description\": \"\"\n      }\n    },\n    {\n      \"column\": \"new_orig_bal\",\n      \"properties\": {\n        \"dtype\": \"number\",\n        \"std\": 0.0,\n        \"min\": 0.0,\n        \"max\": 0.0,\n        \"num_unique_values\": 1,\n        \"samples\": [\n          0.0\n        ],\n        \"semantic_type\": \"\",\n        \"description\": \"\"\n      }\n    },\n    {\n      \"column\": \"new_dest_bal\",\n      \"properties\": {\n        \"dtype\": \"number\",\n        \"std\": 20641596.619495884,\n        \"min\": 0.0,\n        \"max\": 83016435.4,\n        \"num_unique_values\": 677,\n        \"samples\": [\n          38444009.48\n        ],\n        \"semantic_type\": \"\",\n        \"description\": \"\"\n      }\n    },\n    {\n      \"column\": \"isFraud\",\n      \"properties\": {\n        \"dtype\": \"number\",\n        \"std\": 0,\n        \"min\": 0,\n        \"max\": 1,\n        \"num_unique_values\": 2,\n        \"samples\": [\n          1\n        ],\n        \"semantic_type\": \"\",\n        \"description\": \"\"\n      }\n    },\n    {\n      \"column\": \"isFlaggedFraud\",\n      \"properties\": {\n        \"dtype\": \"number\",\n        \"std\": 0,\n        \"min\": 0,\n        \"max\": 0,\n        \"num_unique_values\": 1,\n        \"samples\": [\n          0\n        ],\n        \"semantic_type\": \"\",\n        \"description\": \"\"\n      }\n    },\n    {\n      \"column\": \"isMerchant\",\n      \"properties\": {\n        \"dtype\": \"number\",\n        \"std\": 0,\n        \"min\": 0,\n        \"max\": 1,\n        \"num_unique_values\": 2,\n        \"samples\": [\n          0\n        ],\n        \"semantic_type\": \"\",\n        \"description\": \"\"\n      }\n    }\n  ]\n}"
            }
          },
          "metadata": {},
          "execution_count": 29
        }
      ],
      "source": [
        "dup = data.loc[data.duplicated(),:]\n",
        "dup.head(22)"
      ]
    },
    {
      "cell_type": "markdown",
      "id": "8ef41a17",
      "metadata": {
        "id": "8ef41a17"
      },
      "source": [
        "these transactions look fraudulent,\n",
        "\n",
        "money was payed, but there is no trace of it in either sending or receiving accounts\n",
        "\n",
        "so we'll leave them"
      ]
    },
    {
      "cell_type": "markdown",
      "metadata": {
        "id": "30lv4FTDuMpq"
      },
      "source": [
        "those do not look like duplicates, so we'll ignore"
      ],
      "id": "30lv4FTDuMpq"
    },
    {
      "cell_type": "markdown",
      "id": "214c2134",
      "metadata": {
        "id": "214c2134"
      },
      "source": [
        "## Creating new features"
      ]
    },
    {
      "cell_type": "markdown",
      "id": "f12d2ebb",
      "metadata": {
        "id": "f12d2ebb"
      },
      "source": [
        "Most features turned out to have no effect\n",
        "on the performance of our best performing model\n",
        "\n",
        "so we will drop those features as they will not affect our f2 score"
      ]
    },
    {
      "cell_type": "code",
      "execution_count": 30,
      "id": "f40f8395",
      "metadata": {
        "id": "f40f8395"
      },
      "outputs": [],
      "source": [
        "# columns_to_keep = [\n",
        "#     'Mean Corpuscular Hemoglobin (pg)',\n",
        "#     'Mean Corpuscular Volume (fL)',\n",
        "#     'Hematocrit (%)',\n",
        "#     'White Blood Cell Count (10^3/µL)',\n",
        "#     'Cholesterol Level (mg/dL)',\n",
        "#     'Platelet Count (10^9/L)',\n",
        "#     'White Blood Cell Count (10^3/µL)',\n",
        "#     'Glucose',\n",
        "#     'Disease'\n",
        "# ]\n",
        "\n",
        "# columns_to_drop = [col for col in data.columns if col not in columns_to_keep]\n",
        "# data.drop(columns=columns_to_drop, inplace=True, axis=1)\n",
        "# test.drop(columns=columns_to_drop, inplace=True, axis=1)\n"
      ]
    },
    {
      "cell_type": "markdown",
      "id": "6c25b640",
      "metadata": {
        "id": "6c25b640"
      },
      "source": [
        "## Impute Missing Values"
      ]
    },
    {
      "cell_type": "code",
      "execution_count": 31,
      "id": "9c0f4abd",
      "metadata": {
        "colab": {
          "base_uri": "https://localhost:8080/"
        },
        "id": "9c0f4abd",
        "outputId": "abaa49d0-b8be-4697-f640-a7c0cf0bc9bb"
      },
      "outputs": [
        {
          "output_type": "execute_result",
          "data": {
            "text/plain": [
              "time_step         0\n",
              "trans_type        0\n",
              "trans_amt         0\n",
              "new_orig_bal      0\n",
              "new_dest_bal      0\n",
              "isFraud           0\n",
              "isFlaggedFraud    0\n",
              "isMerchant        0\n",
              "dtype: int64"
            ]
          },
          "metadata": {},
          "execution_count": 31
        }
      ],
      "source": [
        "data.isnull().sum()"
      ]
    },
    {
      "cell_type": "code",
      "execution_count": 32,
      "id": "10ce28b3",
      "metadata": {
        "id": "10ce28b3"
      },
      "outputs": [],
      "source": [
        "# Drop the missing rows\n",
        "# data = data.dropna()"
      ]
    },
    {
      "cell_type": "code",
      "execution_count": 33,
      "id": "2baed49f",
      "metadata": {
        "id": "2baed49f"
      },
      "outputs": [],
      "source": [
        "df = data\n",
        "X = df.drop('isFraud', axis=1)\n",
        "y = df['isFraud']"
      ]
    },
    {
      "cell_type": "markdown",
      "id": "749f6179",
      "metadata": {
        "id": "749f6179"
      },
      "source": [
        "## Data Imbalance Check"
      ]
    },
    {
      "cell_type": "code",
      "execution_count": 34,
      "id": "8d905e3c",
      "metadata": {
        "colab": {
          "base_uri": "https://localhost:8080/",
          "height": 399
        },
        "id": "8d905e3c",
        "outputId": "ccca0a7b-ac9d-4f4c-940c-2c334a962f5c"
      },
      "outputs": [
        {
          "output_type": "display_data",
          "data": {
            "text/plain": [
              "<Figure size 2000x700 with 2 Axes>"
            ],
            "image/png": "[encoded data removed]"
          },
          "metadata": {}
        }
      ],
      "source": [
        "#Defining colors for the plots\n",
        "palette = ['#008080','#FF6347', '#E50000', '#D2691E']\n",
        "palette2 = ['#FF6347', '#008080', '#E50000', '#D2691E']\n",
        "\n",
        "l1 = list(data['isFraud'].value_counts())\n",
        "pie_values = [l1[0] / sum(l1) * 100, l1[1] / sum(l1) * 100]\n",
        "\n",
        "fig = plt.subplots(nrows = 1,ncols = 2,figsize = (20,7))\n",
        "\n",
        "plt.subplot(1,2,1)\n",
        "plt.pie(pie_values,labels = ['No Fraud','isFraud'],\n",
        "        autopct = '%1.2f%%',\n",
        "        explode = (0.1,0),\n",
        "        colors = palette,\n",
        "        wedgeprops = {'edgecolor': 'black','linewidth': 1, 'antialiased' : True})\n",
        "plt.title('isFraud and No Fraud %');\n",
        "\n",
        "plt.subplot(1,2,2)\n",
        "ax = sns.countplot(data = data,\n",
        "                   x='isFraud',\n",
        "                   palette = palette,\n",
        "                   edgecolor = 'black')\n",
        "for i in ax.containers:\n",
        "    ax.bar_label(i,)\n",
        "ax.set_xticklabels(['No Fraud','isFraud'])\n",
        "\n",
        "plt.title('isFraud and No Fraud')\n",
        "plt.show()\n"
      ]
    },
    {
      "cell_type": "markdown",
      "id": "99d79363",
      "metadata": {
        "id": "99d79363"
      },
      "source": [
        "Dataset is imbalanced.\n",
        "\n",
        "This means that a blind guess (on \"No Fraud\") would give us accuracy of 99%\n",
        "\n",
        "Therefore, we can't use Accuracy Score to choose our model\n",
        "\n",
        "what to do to solve this issue:\n",
        "\n",
        "1. We could use stratified splitting during train-test split (split the dataset in a way that preserves the same proportions of examples in each class.)\n",
        "2. We could be extra careful when dealing with outliers (we can delete meaningull information).\n",
        "3. Resampling Techniques — Oversample minority class or Undersample majority class."
      ]
    },
    {
      "cell_type": "code",
      "execution_count": 35,
      "id": "507a4a64",
      "metadata": {
        "colab": {
          "base_uri": "https://localhost:8080/"
        },
        "id": "507a4a64",
        "outputId": "ffe47298-7c7a-4f80-e5c2-8c22ef87a16f"
      },
      "outputs": [
        {
          "output_type": "stream",
          "name": "stdout",
          "text": [
            "After Random Over Sampling Of Minor Class Total Samples are : 12708814\n",
            "Original dataset shape Counter({0: 6354407, 1: 8213})\n",
            "Resampled dataset shape Counter({0: 6354407, 1: 6354407})\n"
          ]
        }
      ],
      "source": [
        "#Oversampling the minority class (the churn customers)\n",
        "ros = RandomOverSampler(random_state=0)\n",
        "X_new,y_new= ros.fit_resample(X, y)\n",
        "# X_new,y_new= X, y\n",
        "\n",
        "print(\"After Random Over Sampling Of Minor Class Total Samples are :\", len(y_new))\n",
        "print('Original dataset shape {}'.format(Counter(y)))\n",
        "print('Resampled dataset shape {}'.format(Counter(y_new)))"
      ]
    },
    {
      "cell_type": "markdown",
      "id": "3c00a094",
      "metadata": {
        "id": "3c00a094"
      },
      "source": [
        "Now our data is balanced"
      ]
    },
    {
      "cell_type": "markdown",
      "id": "e154be43",
      "metadata": {
        "id": "e154be43"
      },
      "source": [
        "# Dataset Splitting"
      ]
    },
    {
      "cell_type": "code",
      "execution_count": 36,
      "id": "c135237d",
      "metadata": {
        "id": "c135237d"
      },
      "outputs": [],
      "source": [
        "X_train, X_test, y_train, y_test = train_test_split(X_new, y_new, test_size = 0.20, random_state = 42)"
      ]
    },
    {
      "cell_type": "code",
      "execution_count": 37,
      "id": "9adedbf5",
      "metadata": {
        "colab": {
          "base_uri": "https://localhost:8080/"
        },
        "id": "9adedbf5",
        "outputId": "9ac6cc4c-576d-414b-d124-a0fcc774ad79"
      },
      "outputs": [
        {
          "output_type": "execute_result",
          "data": {
            "text/plain": [
              "((10167051, 7), (2541763, 7), (10167051,), (2541763,))"
            ]
          },
          "metadata": {},
          "execution_count": 37
        }
      ],
      "source": [
        "X_train.shape, X_test.shape , y_train.shape, y_test.shape"
      ]
    },
    {
      "cell_type": "markdown",
      "id": "7179b097",
      "metadata": {
        "id": "7179b097"
      },
      "source": [
        "# Features Encoding"
      ]
    },
    {
      "cell_type": "code",
      "execution_count": 38,
      "id": "b317520d",
      "metadata": {
        "colab": {
          "base_uri": "https://localhost:8080/"
        },
        "id": "b317520d",
        "outputId": "e3c10e0e-00ab-44f5-cc9e-56fb8ffdbede"
      },
      "outputs": [
        {
          "output_type": "stream",
          "name": "stdout",
          "text": [
            "numeric_cols: ['time_step', 'trans_amt', 'new_orig_bal', 'new_dest_bal', 'isFlaggedFraud', 'isMerchant']\n",
            "categoric_cols: ['trans_type']\n"
          ]
        }
      ],
      "source": [
        "numeric = [col for col in data.columns if data[col].dtype in ['int64', 'float64']]\n",
        "numeric.remove('isFraud')\n",
        "print(\"numeric_cols:\", numeric)\n",
        "print(\"categoric_cols:\", categoric)\n",
        "categoric = [col for col in data.columns if data[col].dtype == 'object']"
      ]
    },
    {
      "cell_type": "code",
      "execution_count": 39,
      "id": "8f7b5b6e",
      "metadata": {
        "id": "8f7b5b6e"
      },
      "outputs": [],
      "source": [
        "# calling our encoder\n",
        "encoder = OneHotEncoder(handle_unknown='ignore', sparse=False, drop=\"first\")\n",
        "# setting output to DataFrame\n",
        "encoder.set_output(transform=\"pandas\")\n",
        "# encoding our data\n",
        "X_catEncoded_train = encoder.fit_transform(X_train[categoric])\n",
        "X_catEncoded_test = encoder.transform(X_test[categoric]) # encoding our test data"
      ]
    },
    {
      "cell_type": "markdown",
      "id": "3e31fb85",
      "metadata": {
        "id": "3e31fb85"
      },
      "source": [
        "# Features Scaling\n"
      ]
    },
    {
      "cell_type": "code",
      "execution_count": 40,
      "id": "a04f761f",
      "metadata": {
        "id": "a04f761f"
      },
      "outputs": [],
      "source": [
        "Scaler = StandardScaler().fit(X_train[numeric]).set_output(transform=\"pandas\")\n",
        "\n",
        "X_numScaled_train = Scaler.transform(X_train[numeric])\n",
        "X_numScaled_test = Scaler.transform(X_test[numeric])"
      ]
    },
    {
      "cell_type": "code",
      "execution_count": 41,
      "id": "216737b2",
      "metadata": {
        "id": "216737b2"
      },
      "outputs": [],
      "source": [
        "X_train = pd.concat([X_numScaled_train, X_catEncoded_train], axis=1)\n",
        "X_test = pd.concat([X_numScaled_test, X_catEncoded_test], axis=1)"
      ]
    },
    {
      "cell_type": "markdown",
      "id": "65fbefef",
      "metadata": {
        "id": "65fbefef"
      },
      "source": [
        "# Machine Learning Modeling\n"
      ]
    },
    {
      "cell_type": "markdown",
      "id": "7825e6ca",
      "metadata": {
        "id": "7825e6ca"
      },
      "source": [
        "## 1.  Logistic Regression"
      ]
    },
    {
      "cell_type": "markdown",
      "id": "e09d87c9",
      "metadata": {
        "id": "e09d87c9"
      },
      "source": [
        "### Create the Model"
      ]
    },
    {
      "cell_type": "code",
      "execution_count": 42,
      "id": "c16aab19",
      "metadata": {
        "id": "c16aab19"
      },
      "outputs": [],
      "source": [
        "model= LogisticRegression()"
      ]
    },
    {
      "cell_type": "markdown",
      "id": "ff2e829a",
      "metadata": {
        "id": "ff2e829a"
      },
      "source": [
        "### Train the Model"
      ]
    },
    {
      "cell_type": "code",
      "execution_count": 43,
      "id": "2f75a90b",
      "metadata": {
        "id": "2f75a90b"
      },
      "outputs": [],
      "source": [
        "model=model.fit(X_train, y_train)\n"
      ]
    },
    {
      "cell_type": "markdown",
      "id": "82707b0a",
      "metadata": {
        "id": "82707b0a"
      },
      "source": [
        "###  Predict on the test dataset"
      ]
    },
    {
      "cell_type": "code",
      "execution_count": 44,
      "id": "473c43df",
      "metadata": {
        "id": "473c43df"
      },
      "outputs": [],
      "source": [
        "pred = model.predict(X_test)\n",
        "prob = model.predict_proba(X_test)[:,1]\n"
      ]
    },
    {
      "cell_type": "markdown",
      "id": "dc806a2a",
      "metadata": {
        "id": "dc806a2a"
      },
      "source": [
        "### Model Evaluation"
      ]
    },
    {
      "cell_type": "code",
      "execution_count": 45,
      "id": "914a2976",
      "metadata": {
        "colab": {
          "base_uri": "https://localhost:8080/"
        },
        "id": "914a2976",
        "outputId": "56a5518e-bfb3-4dae-a6b7-21c5f8d75050"
      },
      "outputs": [
        {
          "output_type": "stream",
          "name": "stdout",
          "text": [
            "recall_score :  0.8822669455184645\n",
            "precision_score : 0.804040798063354\n",
            "f1_score : 0.8413394550069743\n",
            "f2_score : 0.8654272430336448\n",
            "accuracy_score : 0.8336154865736892\n",
            "ROC_AUC Score: 0.8368043531734168\n"
          ]
        }
      ],
      "source": [
        "r_lgt= recall_score(y_test, pred)\n",
        "print(\"recall_score : \", r_lgt)\n",
        "\n",
        "p_lgt= precision_score(y_test, pred)\n",
        "print(\"precision_score :\",p_lgt)\n",
        "\n",
        "f1_lgt= f1_score(y_test, pred)\n",
        "print(\"f1_score :\", f1_lgt)\n",
        "\n",
        "f2_lgt = fbeta_score(y_test, pred, beta=2, average='binary')\n",
        "print(\"f2_score :\", f2_lgt)\n",
        "\n",
        "A_lgt= accuracy_score(pred, y_test)\n",
        "print(\"accuracy_score :\",A_lgt)\n",
        "\n",
        "acu_lgt = roc_auc_score(pred, y_test)\n",
        "print(\"ROC_AUC Score:\",acu_lgt)\n",
        ""
      ]
    },
    {
      "cell_type": "code",
      "execution_count": 46,
      "id": "899a2476",
      "metadata": {
        "colab": {
          "base_uri": "https://localhost:8080/",
          "height": 641
        },
        "id": "899a2476",
        "outputId": "3f3cb0b0-b101-4a7f-a633-9e00ea1d7aea"
      },
      "outputs": [
        {
          "output_type": "display_data",
          "data": {
            "text/plain": [
              "<Figure size 1000x700 with 1 Axes>"
            ],
            "image/png": "[encoded data removed]"
          },
          "metadata": {}
        }
      ],
      "source": [
        "# plot the model evaluation\n",
        "fpr, tpr, _ = roc_curve(y_test, prob)\n",
        "fig, ax = plt.subplots(figsize=(10,7))\n",
        "plt.title('Logistic Regression ROC curve')\n",
        "plt.xlabel(\"False Positive Rate\")\n",
        "plt.ylabel(\"True Positive Rate\")\n",
        "plt.plot(fpr,tpr)\n",
        "plt.plot((0,1), linestyle=\"--\",color='black')\n",
        "plt.show()"
      ]
    },
    {
      "cell_type": "markdown",
      "id": "55006580",
      "metadata": {
        "id": "55006580"
      },
      "source": [
        "## 3. XGBoost Classifier"
      ]
    },
    {
      "cell_type": "markdown",
      "id": "74beedfa",
      "metadata": {
        "id": "74beedfa"
      },
      "source": [
        "### Create the Model"
      ]
    },
    {
      "cell_type": "code",
      "execution_count": 47,
      "id": "8ff6b746",
      "metadata": {
        "id": "8ff6b746"
      },
      "outputs": [],
      "source": [
        "XG_model= XGBClassifier()"
      ]
    },
    {
      "cell_type": "markdown",
      "id": "2a776eb2",
      "metadata": {
        "id": "2a776eb2"
      },
      "source": [
        "### Train the Model"
      ]
    },
    {
      "cell_type": "code",
      "execution_count": 48,
      "id": "5e3400b1",
      "metadata": {
        "id": "5e3400b1"
      },
      "outputs": [],
      "source": [
        "XG_model= XG_model.fit(X_train, y_train)"
      ]
    },
    {
      "cell_type": "markdown",
      "id": "c0763132",
      "metadata": {
        "id": "c0763132"
      },
      "source": [
        "### Predict on the test dataset"
      ]
    },
    {
      "cell_type": "code",
      "execution_count": 49,
      "id": "52e61bdc",
      "metadata": {
        "id": "52e61bdc"
      },
      "outputs": [],
      "source": [
        "XG_pred = XG_model.predict(X_test)\n",
        "XG_prob = XG_model.predict_proba(X_test)[:,1]"
      ]
    },
    {
      "cell_type": "markdown",
      "id": "de6b728d",
      "metadata": {
        "id": "de6b728d"
      },
      "source": [
        "### Model Evaluation"
      ]
    },
    {
      "cell_type": "code",
      "execution_count": 50,
      "id": "a88758c3",
      "metadata": {
        "colab": {
          "base_uri": "https://localhost:8080/"
        },
        "id": "a88758c3",
        "outputId": "544bb410-dc6d-4f02-e9e3-138b94306fde"
      },
      "outputs": [
        {
          "output_type": "stream",
          "name": "stdout",
          "text": [
            "recall_score :  0.9646777231719235\n",
            "precision_score : 0.9752736020007668\n",
            "f1_score : 0.9699467256107884\n",
            "f2_score : 0.9667784397669578\n",
            "accuracy_score : 0.9701089361990083\n",
            "ROC_AUC Score: 0.9701642696785007\n"
          ]
        }
      ],
      "source": [
        "r_XG= recall_score(y_test, XG_pred)\n",
        "print(\"recall_score : \", r_XG)\n",
        "\n",
        "p_XG= precision_score(y_test, XG_pred)\n",
        "print(\"precision_score :\",p_XG)\n",
        "\n",
        "f1_XG= f1_score(y_test, XG_pred)\n",
        "print(\"f1_score :\", f1_XG)\n",
        "\n",
        "f2_XG = fbeta_score(y_test, XG_pred, beta=2, average='binary')\n",
        "print(\"f2_score :\", f2_XG)\n",
        "\n",
        "\n",
        "A_XG= accuracy_score( y_test, XG_pred)\n",
        "print(\"accuracy_score :\",A_XG)\n",
        "\n",
        "acu_XG = roc_auc_score(XG_pred, y_test)\n",
        "print(\"ROC_AUC Score:\",acu_XG)\n",
        ""
      ]
    },
    {
      "cell_type": "code",
      "execution_count": 51,
      "id": "92b3e2c8",
      "metadata": {
        "colab": {
          "base_uri": "https://localhost:8080/",
          "height": 641
        },
        "id": "92b3e2c8",
        "outputId": "25818254-83e2-4ed3-8d23-3af310d9c317"
      },
      "outputs": [
        {
          "output_type": "display_data",
          "data": {
            "text/plain": [
              "<Figure size 1000x700 with 1 Axes>"
            ],
            "image/png": "[encoded data removed]"
          },
          "metadata": {}
        }
      ],
      "source": [
        "#  plot the model evaluation\n",
        "fpr, tpr, _ = roc_curve(y_test, XG_prob)\n",
        "fig, ax = plt.subplots(figsize=(10,7))\n",
        "plt.title('XGBoost ROC curve')\n",
        "plt.xlabel(\"False Positive Rate\")\n",
        "plt.ylabel(\"True Positive Rate\")\n",
        "plt.plot(fpr,tpr)\n",
        "plt.plot((0,1), linestyle=\"--\",color='black')\n",
        "plt.show()"
      ]
    },
    {
      "cell_type": "markdown",
      "id": "007fd0a2",
      "metadata": {
        "id": "007fd0a2"
      },
      "source": [
        "##  6. DecisionTreeClassifier"
      ]
    },
    {
      "cell_type": "markdown",
      "id": "351c86b0",
      "metadata": {
        "id": "351c86b0"
      },
      "source": [
        "### Create the Model"
      ]
    },
    {
      "cell_type": "code",
      "execution_count": 52,
      "id": "57c57da1",
      "metadata": {
        "id": "57c57da1"
      },
      "outputs": [],
      "source": [
        "dtmodel = DecisionTreeClassifier()"
      ]
    },
    {
      "cell_type": "markdown",
      "id": "7f325e42",
      "metadata": {
        "id": "7f325e42"
      },
      "source": [
        "### Train the Model"
      ]
    },
    {
      "cell_type": "code",
      "execution_count": 53,
      "id": "a1dd314a",
      "metadata": {
        "id": "a1dd314a"
      },
      "outputs": [],
      "source": [
        "dtmodel = dtmodel.fit(X_train, y_train)"
      ]
    },
    {
      "cell_type": "markdown",
      "id": "561524af",
      "metadata": {
        "id": "561524af"
      },
      "source": [
        "### Predict on the test dataset"
      ]
    },
    {
      "cell_type": "code",
      "execution_count": 54,
      "id": "13171444",
      "metadata": {
        "id": "13171444"
      },
      "outputs": [],
      "source": [
        "dt_pred = dtmodel.predict(X_test)\n",
        "dt_prob = dtmodel.predict_proba(X_test)[:,1]"
      ]
    },
    {
      "cell_type": "markdown",
      "id": "3918c978",
      "metadata": {
        "id": "3918c978"
      },
      "source": [
        "### Model Evaluation"
      ]
    },
    {
      "cell_type": "code",
      "execution_count": 55,
      "id": "7c818cd3",
      "metadata": {
        "colab": {
          "base_uri": "https://localhost:8080/"
        },
        "id": "7c818cd3",
        "outputId": "f614f8e1-f2f3-44e7-b0ee-cb3c9eff9cb7"
      },
      "outputs": [
        {
          "output_type": "stream",
          "name": "stdout",
          "text": [
            "recall_score :  1.0\n",
            "precision_score : 0.9996712140852515\n",
            "f1_score : 0.9998355800131379\n",
            "f2_score : 0.9999342255164714\n",
            "accuracy_score : 0.9998355472166366\n",
            "ROC_AUC Score: 0.9998356070426258\n"
          ]
        }
      ],
      "source": [
        "r_dt= recall_score(y_test, dt_pred)\n",
        "print(\"recall_score : \", r_dt)\n",
        "\n",
        "p_dt= precision_score(y_test, dt_pred)\n",
        "print(\"precision_score :\",p_dt)\n",
        "\n",
        "f1_dt= f1_score(y_test, dt_pred)\n",
        "print(\"f1_score :\", f1_dt)\n",
        "\n",
        "f2_dt = fbeta_score(y_test, dt_pred, beta=2, average='binary')\n",
        "print(\"f2_score :\", f2_dt)\n",
        "\n",
        "\n",
        "A_dt= accuracy_score( y_test, dt_pred)\n",
        "print(\"accuracy_score :\", A_dt)\n",
        "\n",
        "acu_dt = roc_auc_score(dt_pred, y_test)\n",
        "print(\"ROC_AUC Score:\",acu_dt)"
      ]
    },
    {
      "cell_type": "code",
      "source": [
        "#  plot the model evaluation\n",
        "fpr, tpr, _ = roc_curve(y_test, dt_prob)\n",
        "fig, ax = plt.subplots(figsize=(10,7))\n",
        "plt.title('dt ROC curve')\n",
        "plt.xlabel(\"False Positive Rate\")\n",
        "plt.ylabel(\"True Positive Rate\")\n",
        "plt.plot(fpr,tpr)\n",
        "plt.plot((0,1), linestyle=\"--\",color='black')\n",
        "plt.show()"
      ],
      "metadata": {
        "id": "X8diJ-R93nqG"
      },
      "id": "X8diJ-R93nqG",
      "execution_count": null,
      "outputs": []
    },
    {
      "cell_type": "markdown",
      "id": "c286dfb6",
      "metadata": {
        "id": "c286dfb6"
      },
      "source": [
        "# Models comparison"
      ]
    },
    {
      "cell_type": "markdown",
      "id": "5d760629",
      "metadata": {
        "id": "5d760629"
      },
      "source": [
        "False Negatives:\n",
        "\n",
        "False negatives occur when the model incorrectly predicts that a patient does not have the disease when, in reality, they do.\n",
        "The consequence of a false negative is that the patient may not receive necessary treatment or intervention, potentially leading to undetected or untreated health issues. This can result in the progression of the disease, worsening health outcomes, and possibly even life-threatening situations if the disease is serious.\n",
        "\n",
        "Given that false negatives are more costly in this medical diagnosis classification project, and I've balanced the classes using Random Over Sampler, it's advisable to prioritize metrics that focus on minimizing false negatives.\n",
        "\n",
        "In this context, the most appropriate metric to use would be recall or the F2 score. Both of these metrics emphasize the minimization of false negatives, making them suitable for scenarios where the cost of missing positive cases (i.e., false negatives) is high."
      ]
    },
    {
      "cell_type": "code",
      "execution_count": 56,
      "id": "4906e4f5",
      "metadata": {
        "colab": {
          "base_uri": "https://localhost:8080/",
          "height": 143
        },
        "id": "4906e4f5",
        "outputId": "f7e00cee-673f-4042-a8ce-032c87b44768"
      },
      "outputs": [
        {
          "output_type": "execute_result",
          "data": {
            "text/plain": [
              "                        Accuracy    Recall  Precision  f1_score  f2_score  \\\n",
              "Logistic Regression     0.833615  0.882267   0.804041  0.841339  0.865427   \n",
              "XGBClassifier           0.970109  0.964678   0.975274  0.969947  0.966778   \n",
              "DecisionTreeClassifier  0.999836  1.000000   0.999671  0.999836  0.999934   \n",
              "\n",
              "                         ROC_AUC Description  \n",
              "Logistic Regression     0.836804              \n",
              "XGBClassifier           0.970164  best model  \n",
              "DecisionTreeClassifier  0.999836              "
            ],
            "text/html": [
              "\n",
              "  <div id=\"df-3b17172a-4d47-4af6-8415-b5f220bfb755\" class=\"colab-df-container\">\n",
              "    <div>\n",
              "<style scoped>\n",
              "    .dataframe tbody tr th:only-of-type {\n",
              "        vertical-align: middle;\n",
              "    }\n",
              "\n",
              "    .dataframe tbody tr th {\n",
              "        vertical-align: top;\n",
              "    }\n",
              "\n",
              "    .dataframe thead th {\n",
              "        text-align: right;\n",
              "    }\n",
              "</style>\n",
              "<table border=\"1\" class=\"dataframe\">\n",
              "  <thead>\n",
              "    <tr style=\"text-align: right;\">\n",
              "      <th></th>\n",
              "      <th>Accuracy</th>\n",
              "      <th>Recall</th>\n",
              "      <th>Precision</th>\n",
              "      <th>f1_score</th>\n",
              "      <th>f2_score</th>\n",
              "      <th>ROC_AUC</th>\n",
              "      <th>Description</th>\n",
              "    </tr>\n",
              "  </thead>\n",
              "  <tbody>\n",
              "    <tr>\n",
              "      <th>Logistic Regression</th>\n",
              "      <td>0.833615</td>\n",
              "      <td>0.882267</td>\n",
              "      <td>0.804041</td>\n",
              "      <td>0.841339</td>\n",
              "      <td>0.865427</td>\n",
              "      <td>0.836804</td>\n",
              "      <td></td>\n",
              "    </tr>\n",
              "    <tr>\n",
              "      <th>XGBClassifier</th>\n",
              "      <td>0.970109</td>\n",
              "      <td>0.964678</td>\n",
              "      <td>0.975274</td>\n",
              "      <td>0.969947</td>\n",
              "      <td>0.966778</td>\n",
              "      <td>0.970164</td>\n",
              "      <td>best model</td>\n",
              "    </tr>\n",
              "    <tr>\n",
              "      <th>DecisionTreeClassifier</th>\n",
              "      <td>0.999836</td>\n",
              "      <td>1.000000</td>\n",
              "      <td>0.999671</td>\n",
              "      <td>0.999836</td>\n",
              "      <td>0.999934</td>\n",
              "      <td>0.999836</td>\n",
              "      <td></td>\n",
              "    </tr>\n",
              "  </tbody>\n",
              "</table>\n",
              "</div>\n",
              "    <div class=\"colab-df-buttons\">\n",
              "\n",
              "  <div class=\"colab-df-container\">\n",
              "    <button class=\"colab-df-convert\" onclick=\"convertToInteractive('df-3b17172a-4d47-4af6-8415-b5f220bfb755')\"\n",
              "            title=\"Convert this dataframe to an interactive table.\"\n",
              "            style=\"display:none;\">\n",
              "\n",
              "  <svg xmlns=\"http://www.w3.org/2000/svg\" height=\"24px\" viewBox=\"0 -960 960 960\">\n",
              "    <path d=\"M120-120v-720h720v720H120Zm60-500h600v-160H180v160Zm220 220h160v-160H400v160Zm0 220h160v-160H400v160ZM180-400h160v-160H180v160Zm440 0h160v-160H620v160ZM180-180h160v-160H180v160Zm440 0h160v-160H620v160Z\"/>\n",
              "  </svg>\n",
              "    </button>\n",
              "\n",
              "  <style>\n",
              "    .colab-df-container {\n",
              "      display:flex;\n",
              "      gap: 12px;\n",
              "    }\n",
              "\n",
              "    .colab-df-convert {\n",
              "      background-color: #E8F0FE;\n",
              "      border: none;\n",
              "      border-radius: 50%;\n",
              "      cursor: pointer;\n",
              "      display: none;\n",
              "      fill: #1967D2;\n",
              "      height: 32px;\n",
              "      padding: 0 0 0 0;\n",
              "      width: 32px;\n",
              "    }\n",
              "\n",
              "    .colab-df-convert:hover {\n",
              "      background-color: #E2EBFA;\n",
              "      box-shadow: 0px 1px 2px rgba(60, 64, 67, 0.3), 0px 1px 3px 1px rgba(60, 64, 67, 0.15);\n",
              "      fill: #174EA6;\n",
              "    }\n",
              "\n",
              "    .colab-df-buttons div {\n",
              "      margin-bottom: 4px;\n",
              "    }\n",
              "\n",
              "    [theme=dark] .colab-df-convert {\n",
              "      background-color: #3B4455;\n",
              "      fill: #D2E3FC;\n",
              "    }\n",
              "\n",
              "    [theme=dark] .colab-df-convert:hover {\n",
              "      background-color: #434B5C;\n",
              "      box-shadow: 0px 1px 3px 1px rgba(0, 0, 0, 0.15);\n",
              "      filter: drop-shadow(0px 1px 2px rgba(0, 0, 0, 0.3));\n",
              "      fill: #FFFFFF;\n",
              "    }\n",
              "  </style>\n",
              "\n",
              "    <script>\n",
              "      const buttonEl =\n",
              "        document.querySelector('#df-3b17172a-4d47-4af6-8415-b5f220bfb755 button.colab-df-convert');\n",
              "      buttonEl.style.display =\n",
              "        google.colab.kernel.accessAllowed ? 'block' : 'none';\n",
              "\n",
              "      async function convertToInteractive(key) {\n",
              "        const element = document.querySelector('#df-3b17172a-4d47-4af6-8415-b5f220bfb755');\n",
              "        const dataTable =\n",
              "          await google.colab.kernel.invokeFunction('convertToInteractive',\n",
              "                                                    [key], {});\n",
              "        if (!dataTable) return;\n",
              "\n",
              "        const docLinkHtml = 'Like what you see? Visit the ' +\n",
              "          '<a target=\"_blank\" href=https://colab.research.google.com/notebooks/data_table.ipynb>data table notebook</a>'\n",
              "          + ' to learn more about interactive tables.';\n",
              "        element.innerHTML = '';\n",
              "        dataTable['output_type'] = 'display_data';\n",
              "        await google.colab.output.renderOutput(dataTable, element);\n",
              "        const docLink = document.createElement('div');\n",
              "        docLink.innerHTML = docLinkHtml;\n",
              "        element.appendChild(docLink);\n",
              "      }\n",
              "    </script>\n",
              "  </div>\n",
              "\n",
              "\n",
              "<div id=\"df-f7a032e9-88f1-4e34-84a6-9f0249f449b6\">\n",
              "  <button class=\"colab-df-quickchart\" onclick=\"quickchart('df-f7a032e9-88f1-4e34-84a6-9f0249f449b6')\"\n",
              "            title=\"Suggest charts\"\n",
              "            style=\"display:none;\">\n",
              "\n",
              "<svg xmlns=\"http://www.w3.org/2000/svg\" height=\"24px\"viewBox=\"0 0 24 24\"\n",
              "     width=\"24px\">\n",
              "    <g>\n",
              "        <path d=\"M19 3H5c-1.1 0-2 .9-2 2v14c0 1.1.9 2 2 2h14c1.1 0 2-.9 2-2V5c0-1.1-.9-2-2-2zM9 17H7v-7h2v7zm4 0h-2V7h2v10zm4 0h-2v-4h2v4z\"/>\n",
              "    </g>\n",
              "</svg>\n",
              "  </button>\n",
              "\n",
              "<style>\n",
              "  .colab-df-quickchart {\n",
              "      --bg-color: #E8F0FE;\n",
              "      --fill-color: #1967D2;\n",
              "      --hover-bg-color: #E2EBFA;\n",
              "      --hover-fill-color: #174EA6;\n",
              "      --disabled-fill-color: #AAA;\n",
              "      --disabled-bg-color: #DDD;\n",
              "  }\n",
              "\n",
              "  [theme=dark] .colab-df-quickchart {\n",
              "      --bg-color: #3B4455;\n",
              "      --fill-color: #D2E3FC;\n",
              "      --hover-bg-color: #434B5C;\n",
              "      --hover-fill-color: #FFFFFF;\n",
              "      --disabled-bg-color: #3B4455;\n",
              "      --disabled-fill-color: #666;\n",
              "  }\n",
              "\n",
              "  .colab-df-quickchart {\n",
              "    background-color: var(--bg-color);\n",
              "    border: none;\n",
              "    border-radius: 50%;\n",
              "    cursor: pointer;\n",
              "    display: none;\n",
              "    fill: var(--fill-color);\n",
              "    height: 32px;\n",
              "    padding: 0;\n",
              "    width: 32px;\n",
              "  }\n",
              "\n",
              "  .colab-df-quickchart:hover {\n",
              "    background-color: var(--hover-bg-color);\n",
              "    box-shadow: 0 1px 2px rgba(60, 64, 67, 0.3), 0 1px 3px 1px rgba(60, 64, 67, 0.15);\n",
              "    fill: var(--button-hover-fill-color);\n",
              "  }\n",
              "\n",
              "  .colab-df-quickchart-complete:disabled,\n",
              "  .colab-df-quickchart-complete:disabled:hover {\n",
              "    background-color: var(--disabled-bg-color);\n",
              "    fill: var(--disabled-fill-color);\n",
              "    box-shadow: none;\n",
              "  }\n",
              "\n",
              "  .colab-df-spinner {\n",
              "    border: 2px solid var(--fill-color);\n",
              "    border-color: transparent;\n",
              "    border-bottom-color: var(--fill-color);\n",
              "    animation:\n",
              "      spin 1s steps(1) infinite;\n",
              "  }\n",
              "\n",
              "  @keyframes spin {\n",
              "    0% {\n",
              "      border-color: transparent;\n",
              "      border-bottom-color: var(--fill-color);\n",
              "      border-left-color: var(--fill-color);\n",
              "    }\n",
              "    20% {\n",
              "      border-color: transparent;\n",
              "      border-left-color: var(--fill-color);\n",
              "      border-top-color: var(--fill-color);\n",
              "    }\n",
              "    30% {\n",
              "      border-color: transparent;\n",
              "      border-left-color: var(--fill-color);\n",
              "      border-top-color: var(--fill-color);\n",
              "      border-right-color: var(--fill-color);\n",
              "    }\n",
              "    40% {\n",
              "      border-color: transparent;\n",
              "      border-right-color: var(--fill-color);\n",
              "      border-top-color: var(--fill-color);\n",
              "    }\n",
              "    60% {\n",
              "      border-color: transparent;\n",
              "      border-right-color: var(--fill-color);\n",
              "    }\n",
              "    80% {\n",
              "      border-color: transparent;\n",
              "      border-right-color: var(--fill-color);\n",
              "      border-bottom-color: var(--fill-color);\n",
              "    }\n",
              "    90% {\n",
              "      border-color: transparent;\n",
              "      border-bottom-color: var(--fill-color);\n",
              "    }\n",
              "  }\n",
              "</style>\n",
              "\n",
              "  <script>\n",
              "    async function quickchart(key) {\n",
              "      const quickchartButtonEl =\n",
              "        document.querySelector('#' + key + ' button');\n",
              "      quickchartButtonEl.disabled = true;  // To prevent multiple clicks.\n",
              "      quickchartButtonEl.classList.add('colab-df-spinner');\n",
              "      try {\n",
              "        const charts = await google.colab.kernel.invokeFunction(\n",
              "            'suggestCharts', [key], {});\n",
              "      } catch (error) {\n",
              "        console.error('Error during call to suggestCharts:', error);\n",
              "      }\n",
              "      quickchartButtonEl.classList.remove('colab-df-spinner');\n",
              "      quickchartButtonEl.classList.add('colab-df-quickchart-complete');\n",
              "    }\n",
              "    (() => {\n",
              "      let quickchartButtonEl =\n",
              "        document.querySelector('#df-f7a032e9-88f1-4e34-84a6-9f0249f449b6 button');\n",
              "      quickchartButtonEl.style.display =\n",
              "        google.colab.kernel.accessAllowed ? 'block' : 'none';\n",
              "    })();\n",
              "  </script>\n",
              "</div>\n",
              "\n",
              "  <div id=\"id_3c03242f-f11d-427b-9efa-1e14f2443873\">\n",
              "    <style>\n",
              "      .colab-df-generate {\n",
              "        background-color: #E8F0FE;\n",
              "        border: none;\n",
              "        border-radius: 50%;\n",
              "        cursor: pointer;\n",
              "        display: none;\n",
              "        fill: #1967D2;\n",
              "        height: 32px;\n",
              "        padding: 0 0 0 0;\n",
              "        width: 32px;\n",
              "      }\n",
              "\n",
              "      .colab-df-generate:hover {\n",
              "        background-color: #E2EBFA;\n",
              "        box-shadow: 0px 1px 2px rgba(60, 64, 67, 0.3), 0px 1px 3px 1px rgba(60, 64, 67, 0.15);\n",
              "        fill: #174EA6;\n",
              "      }\n",
              "\n",
              "      [theme=dark] .colab-df-generate {\n",
              "        background-color: #3B4455;\n",
              "        fill: #D2E3FC;\n",
              "      }\n",
              "\n",
              "      [theme=dark] .colab-df-generate:hover {\n",
              "        background-color: #434B5C;\n",
              "        box-shadow: 0px 1px 3px 1px rgba(0, 0, 0, 0.15);\n",
              "        filter: drop-shadow(0px 1px 2px rgba(0, 0, 0, 0.3));\n",
              "        fill: #FFFFFF;\n",
              "      }\n",
              "    </style>\n",
              "    <button class=\"colab-df-generate\" onclick=\"generateWithVariable('result')\"\n",
              "            title=\"Generate code using this dataframe.\"\n",
              "            style=\"display:none;\">\n",
              "\n",
              "  <svg xmlns=\"http://www.w3.org/2000/svg\" height=\"24px\"viewBox=\"0 0 24 24\"\n",
              "       width=\"24px\">\n",
              "    <path d=\"M7,19H8.4L18.45,9,17,7.55,7,17.6ZM5,21V16.75L18.45,3.32a2,2,0,0,1,2.83,0l1.4,1.43a1.91,1.91,0,0,1,.58,1.4,1.91,1.91,0,0,1-.58,1.4L9.25,21ZM18.45,9,17,7.55Zm-12,3A5.31,5.31,0,0,0,4.9,8.1,5.31,5.31,0,0,0,1,6.5,5.31,5.31,0,0,0,4.9,4.9,5.31,5.31,0,0,0,6.5,1,5.31,5.31,0,0,0,8.1,4.9,5.31,5.31,0,0,0,12,6.5,5.46,5.46,0,0,0,6.5,12Z\"/>\n",
              "  </svg>\n",
              "    </button>\n",
              "    <script>\n",
              "      (() => {\n",
              "      const buttonEl =\n",
              "        document.querySelector('#id_3c03242f-f11d-427b-9efa-1e14f2443873 button.colab-df-generate');\n",
              "      buttonEl.style.display =\n",
              "        google.colab.kernel.accessAllowed ? 'block' : 'none';\n",
              "\n",
              "      buttonEl.onclick = () => {\n",
              "        google.colab.notebook.generateWithVariable('result');\n",
              "      }\n",
              "      })();\n",
              "    </script>\n",
              "  </div>\n",
              "\n",
              "    </div>\n",
              "  </div>\n"
            ],
            "application/vnd.google.colaboratory.intrinsic+json": {
              "type": "dataframe",
              "variable_name": "result",
              "summary": "{\n  \"name\": \"result\",\n  \"rows\": 3,\n  \"fields\": [\n    {\n      \"column\": \"Accuracy\",\n      \"properties\": {\n        \"dtype\": \"number\",\n        \"std\": 0.08864088762469044,\n        \"min\": 0.8336154865736892,\n        \"max\": 0.9998355472166366,\n        \"num_unique_values\": 3,\n        \"samples\": [\n          0.8336154865736892,\n          0.9701089361990083,\n          0.9998355472166366\n        ],\n        \"semantic_type\": \"\",\n        \"description\": \"\"\n      }\n    },\n    {\n      \"column\": \"Recall\",\n      \"properties\": {\n        \"dtype\": \"number\",\n        \"std\": 0.06041560453961008,\n        \"min\": 0.8822669455184645,\n        \"max\": 1.0,\n        \"num_unique_values\": 3,\n        \"samples\": [\n          0.8822669455184645,\n          0.9646777231719235,\n          1.0\n        ],\n        \"semantic_type\": \"\",\n        \"description\": \"\"\n      }\n    },\n    {\n      \"column\": \"Precision\",\n      \"properties\": {\n        \"dtype\": \"number\",\n        \"std\": 0.10660454672338802,\n        \"min\": 0.804040798063354,\n        \"max\": 0.9996712140852515,\n        \"num_unique_values\": 3,\n        \"samples\": [\n          0.804040798063354,\n          0.9752736020007668,\n          0.9996712140852515\n        ],\n        \"semantic_type\": \"\",\n        \"description\": \"\"\n      }\n    },\n    {\n      \"column\": \"f1_score\",\n      \"properties\": {\n        \"dtype\": \"number\",\n        \"std\": 0.08421618541153177,\n        \"min\": 0.8413394550069743,\n        \"max\": 0.9998355800131379,\n        \"num_unique_values\": 3,\n        \"samples\": [\n          0.8413394550069743,\n          0.9699467256107884,\n          0.9998355800131379\n        ],\n        \"semantic_type\": \"\",\n        \"description\": \"\"\n      }\n    },\n    {\n      \"column\": \"f2_score\",\n      \"properties\": {\n        \"dtype\": \"number\",\n        \"std\": 0.07007555392167533,\n        \"min\": 0.8654272430336448,\n        \"max\": 0.9999342255164714,\n        \"num_unique_values\": 3,\n        \"samples\": [\n          0.8654272430336448,\n          0.9667784397669578,\n          0.9999342255164714\n        ],\n        \"semantic_type\": \"\",\n        \"description\": \"\"\n      }\n    },\n    {\n      \"column\": \"ROC_AUC\",\n      \"properties\": {\n        \"dtype\": \"number\",\n        \"std\": 0.08683743943847522,\n        \"min\": 0.8368043531734168,\n        \"max\": 0.9998356070426258,\n        \"num_unique_values\": 3,\n        \"samples\": [\n          0.8368043531734168,\n          0.9701642696785007,\n          0.9998356070426258\n        ],\n        \"semantic_type\": \"\",\n        \"description\": \"\"\n      }\n    },\n    {\n      \"column\": \"Description\",\n      \"properties\": {\n        \"dtype\": \"string\",\n        \"num_unique_values\": 2,\n        \"samples\": [\n          \"best model\",\n          \"\"\n        ],\n        \"semantic_type\": \"\",\n        \"description\": \"\"\n      }\n    }\n  ]\n}"
            }
          },
          "metadata": {},
          "execution_count": 56
        }
      ],
      "source": [
        "compare_models = ['Logistic Regression', 'XGBClassifier', 'DecisionTreeClassifier']\n",
        "\n",
        "data = {\n",
        "    'Accuracy': [A_lgt, A_XG, A_dt],\n",
        "    'Recall': [r_lgt, r_XG, r_dt],\n",
        "    'Precision': [p_lgt, p_XG, p_dt],\n",
        "    'f1_score': [f1_lgt, f1_XG, f1_dt],\n",
        "    'f2_score': [f2_lgt, f2_XG, f2_dt],\n",
        "    'ROC_AUC': [acu_lgt, acu_XG, acu_dt],\n",
        "    'Description': ['', 'best model', '']\n",
        "}\n",
        "result=pd.DataFrame(data=data, index=compare_models)\n",
        "result"
      ]
    },
    {
      "cell_type": "markdown",
      "id": "81ca799a",
      "metadata": {
        "id": "81ca799a"
      },
      "source": [
        "In a fraud detection project, it is generally more important to prioritize false negatives over false positives. This is because false negatives mean that fraudulent transactions go undetected, leading to potential financial losses and other negative consequences. False positives, while inconvenient, do not result in direct financial loss and can be managed with additional verification steps.\n",
        "\n",
        "Given this context, the best metrics to focus on are Recall and f2_score. Recall measures the ability to identify actual fraud cases correctly (minimizing false negatives), while the f2_score places more emphasis on recall compared to precision."
      ]
    },
    {
      "cell_type": "markdown",
      "id": "d7cc7d96",
      "metadata": {
        "id": "d7cc7d96"
      },
      "source": [
        "\n",
        "Based on the above metrics, **XGBClassifier is the best model** for this fraud detection project as it has the highest recall (0.870370) and a high f2_score (0.886346), indicating it is effective in detecting fraudulent transactions while minimizing false negatives."
      ]
    },
    {
      "cell_type": "markdown",
      "id": "e4beba0c",
      "metadata": {
        "id": "e4beba0c"
      },
      "source": [
        "In the context of fraud detection, ROC_AUC is important because it gives a holistic view of the model's performance across all classification thresholds.\n",
        "\n",
        "Based on the ROC_AUC values and previously discussed metrics (recall and f2_score), XGBClassifier stands out as the best model for this fraud detection project with the highest ROC_AUC (0.978208)."
      ]
    },
    {
      "cell_type": "markdown",
      "id": "c229ba53",
      "metadata": {
        "id": "c229ba53"
      },
      "source": [
        "# k-Fold cross validation\n",
        "\n",
        "## XGBoost Classifier (Best Model)"
      ]
    },
    {
      "cell_type": "code",
      "execution_count": null,
      "id": "ad86389f",
      "metadata": {
        "id": "ad86389f"
      },
      "outputs": [],
      "source": [
        "xgb_dt = KFold(n_splits = 5,shuffle=True)\n",
        "# Define custom F2 scorer\n",
        "f2_scorer = make_scorer(fbeta_score, beta=2)\n",
        "\n",
        "score = cross_val_score(XG_model, X_train, y_train, cv=xgb_dt, scoring=f2_scorer, error_score=\"raise\")\n",
        "xgb_cv_score = score.mean()\n",
        "xgb_cv_stdev = stdev(score)\n",
        "print('Cross Validation f2 scores are: {}'.format(score))\n",
        "print('Average Cross Validation f2 score: ', xgb_cv_score)\n",
        "print('Cross Validation f2 standard deviation: ', xgb_cv_stdev)"
      ]
    },
    {
      "cell_type": "markdown",
      "id": "aa1f2899",
      "metadata": {
        "id": "aa1f2899"
      },
      "source": [
        "# Model Improvement\n",
        "\n",
        "# Hyperparameters tuning\n",
        "\n",
        "## DecisionTreeClassifier"
      ]
    },
    {
      "cell_type": "code",
      "source": [
        "# Define the parameter grid\n",
        "param_grid_dt = {\n",
        "    'max_depth': [3, 5, 7, 10],  # Maximum depth of the tree\n",
        "    'min_samples_split': [2, 5, 10],  # Minimum number of samples required to split an internal node\n",
        "    'min_samples_leaf': [1, 2, 4],  # Minimum number of samples required to be at a leaf node\n",
        "    'max_features': ['auto', 'sqrt', 'log2', None]  # Number of features to consider when looking for the best split\n",
        "}"
      ],
      "metadata": {
        "id": "OLLRik9_2-y0"
      },
      "id": "OLLRik9_2-y0",
      "execution_count": null,
      "outputs": []
    },
    {
      "cell_type": "code",
      "source": [
        "# make GridSearchCV object\n",
        "dt_Grid = GridSearchCV(estimator = dtmodel,\n",
        "                       param_grid = param_grid_dt,\n",
        "                       cv = 4,\n",
        "                       verbose = 2 ,\n",
        "                       n_jobs = -1,\n",
        "                       scoring=f2_scorer,\n",
        "                       refit=True)"
      ],
      "metadata": {
        "id": "zHHrfyiy3WBd"
      },
      "id": "zHHrfyiy3WBd",
      "execution_count": null,
      "outputs": []
    },
    {
      "cell_type": "code",
      "source": [
        "# Fit the GridSearchCV object to the data\n",
        "dt_Grid.fit(X_train,y_train)"
      ],
      "metadata": {
        "id": "kbouI9FQ3XeX"
      },
      "id": "kbouI9FQ3XeX",
      "execution_count": null,
      "outputs": []
    },
    {
      "cell_type": "code",
      "source": [
        "# Get the best estimator and its score\n",
        "dt_tuned = dt_Grid.best_estimator_\n",
        "dt_Grid.best_score_"
      ],
      "metadata": {
        "id": "8FVOOr153ZKA"
      },
      "id": "8FVOOr153ZKA",
      "execution_count": null,
      "outputs": []
    },
    {
      "cell_type": "code",
      "source": [
        "# Use the best estimator for predictions\n",
        "y_pred_grid = dt_tuned.predict(X_test)\n",
        "f2_dt = fbeta_score(y_test, y_pred_grid, beta=2, average='binary')\n",
        "print(\"f2_score :\", f2_dt)"
      ],
      "metadata": {
        "id": "SQh5oPlx3bEU"
      },
      "id": "SQh5oPlx3bEU",
      "execution_count": null,
      "outputs": []
    },
    {
      "cell_type": "markdown",
      "source": [
        "## Xgboost Classifier"
      ],
      "metadata": {
        "id": "NBOPDFy624xc"
      },
      "id": "NBOPDFy624xc"
    },
    {
      "cell_type": "code",
      "execution_count": null,
      "id": "db5c2619",
      "metadata": {
        "id": "db5c2619"
      },
      "outputs": [],
      "source": [
        "# Define the parameter grid for XGBoost\n",
        "param_grid_xgb = {\n",
        "    'max_depth': [3, 5, 7, 10],  # Maximum depth of a tree\n",
        "    'learning_rate': [0.01, 0.05, 0.1, 0.2],  # Step size shrinkage used in update to prevent overfitting\n",
        "    'n_estimators': [100, 200, 300],  # Number of boosting rounds\n",
        "    'gamma': [0, 0.1, 0.3, 0.5],  # Minimum loss reduction required to make a further partition on a leaf node of the tree\n",
        "    'colsample_bytree': [0.3, 0.5, 0.7, 1.0],  # Subsample ratio of columns when constructing each tree\n",
        "    'subsample': [0.7, 0.8, 0.9, 1.0],  # Subsample ratio of the training instances\n",
        "    'reg_alpha': [0, 0.1, 0.5, 1],  # L1 regularization term on weights\n",
        "    'reg_lambda': [0.1, 1, 10]  # L2 regularization term on weights\n",
        "}"
      ]
    },
    {
      "cell_type": "code",
      "execution_count": null,
      "id": "d5d4409d",
      "metadata": {
        "id": "d5d4409d"
      },
      "outputs": [],
      "source": [
        "# make GridSearchCV object\n",
        "xgb_Grid = GridSearchCV(estimator = XG_model,\n",
        "                       param_grid = param_grid_xgb,\n",
        "                       cv = 4,\n",
        "                       verbose = 2 ,\n",
        "                       n_jobs = -1,\n",
        "                       scoring=f2_scorer,\n",
        "                       refit=True)"
      ]
    },
    {
      "cell_type": "code",
      "execution_count": null,
      "id": "60619d80",
      "metadata": {
        "id": "60619d80"
      },
      "outputs": [],
      "source": [
        "# Fit the GridSearchCV object to the data\n",
        "xgb_Grid.fit(X_train,y_train)"
      ]
    },
    {
      "cell_type": "code",
      "execution_count": null,
      "id": "595c03f2",
      "metadata": {
        "id": "595c03f2"
      },
      "outputs": [],
      "source": [
        "# Get the best estimator and its score\n",
        "xgb_tuned = xgb_Grid.best_estimator_\n",
        "xgb_Grid.best_score_"
      ]
    },
    {
      "cell_type": "code",
      "execution_count": null,
      "id": "9fc018d1",
      "metadata": {
        "id": "9fc018d1"
      },
      "outputs": [],
      "source": [
        "# Use the best estimator for predictions\n",
        "y_pred_grid = xgb_tuned.predict(X_test)\n",
        "f2_xgb = fbeta_score(y_test, y_pred_grid, beta=2, average='binary')\n",
        "print(\"f2_score :\", f2_xgb)"
      ]
    },
    {
      "cell_type": "code",
      "execution_count": null,
      "id": "98323e4d",
      "metadata": {
        "id": "98323e4d"
      },
      "outputs": [],
      "source": [
        "# with open('model.pkl', 'wb') as f:\n",
        "#     pickle.dump(xgb_tuned, f)"
      ]
    },
    {
      "cell_type": "markdown",
      "id": "3a5c85cc",
      "metadata": {
        "id": "3a5c85cc"
      },
      "source": [
        "# Using Confusion Matrix For Predictions"
      ]
    },
    {
      "cell_type": "markdown",
      "id": "b88de2ac",
      "metadata": {
        "id": "b88de2ac"
      },
      "source": [
        "# DecisionTree Classifier"
      ]
    },
    {
      "cell_type": "code",
      "execution_count": null,
      "id": "c8c77928",
      "metadata": {
        "id": "c8c77928"
      },
      "outputs": [],
      "source": [
        "fig, ax = plt.subplots(figsize=(10,7))\n",
        "y_pred_xgb = xgb_Grid.best_estimator_.predict(X_test)\n",
        "\n",
        "cm = confusion_matrix(y_test, y_pred_xgb, labels=xgb_Grid.best_estimator_.classes_)\n",
        "disp = ConfusionMatrixDisplay(confusion_matrix=cm,\n",
        "                             display_labels=xgb_Grid.best_estimator_.classes_)\n",
        "disp.plot(ax=ax)\n",
        "plt.show()"
      ]
    },
    {
      "cell_type": "markdown",
      "id": "4cf9d718",
      "metadata": {
        "id": "4cf9d718"
      },
      "source": [
        "Based on confusion matrix:\n",
        "\n",
        "1. We successfully predicted 416 patients with no disease and 5 with disease\n",
        "2. There are 65 patients who are predicted to have disease when they actually won't\n",
        "3. There are 0 patients who are predicted to not have disease when they actually do"
      ]
    },
    {
      "cell_type": "markdown",
      "id": "21f70f4a",
      "metadata": {
        "id": "21f70f4a"
      },
      "source": [
        "# Feature Importance"
      ]
    },
    {
      "cell_type": "markdown",
      "id": "572f6f9c",
      "metadata": {
        "id": "572f6f9c"
      },
      "source": [
        "# DecisionTreeClassifier"
      ]
    },
    {
      "cell_type": "code",
      "execution_count": null,
      "id": "46a4eab2",
      "metadata": {
        "id": "46a4eab2"
      },
      "outputs": [],
      "source": [
        "fimp = pd.Series(data=XG_model.feature_importances_, index=X_train.columns).sort_values(ascending=False)\n",
        "plt.figure(figsize=(17,13))\n",
        "plt.title(\"Feature importance\")\n",
        "ax = sns.barplot(y=fimp.index, x=fimp.values, palette=palette, orient='h')\n"
      ]
    },
    {
      "cell_type": "markdown",
      "id": "22d463e7",
      "metadata": {
        "id": "22d463e7"
      },
      "source": [
        "# Conclusion\n",
        "\n",
        "Looking at model results, the best Precision on the test set is achieved by  RandomForest Classifier with 0.89 .\n",
        "\n",
        "Given the high imbalance of the data towards non-churners, it makes sense to compare F1 scores to get the model with the best\n",
        "\n",
        "score on jointly precision and recall. This would also be the  RandomForest Classifier with a F1 score of 0.90 .\n",
        "\n",
        "Given the scores of the best performing models, it can be observed that F1 scores are not much above 90%.\n",
        "\n",
        "Further optimization efforts should be carried out to achieve a higher scores and thereby increase prediction power for more\n",
        "\n",
        "business value.\n",
        "\n",
        "When we consider the Exploratory Data Analysis we did, it is clear that this company has some issue with their Month-to-month\n",
        "\n",
        "customers.\n",
        "\n",
        "What kind of incentives can this company offer to customers to get them to sign One-year or Two-year contracts?\n",
        "\n",
        "What adjustments can be made to Month-to-Month contracts that would be more favorable to customers, without taking away the\n",
        "\n",
        "appeal of a One-year or Two-year contract?\n",
        "\n",
        "For RandomForest Classifier, you can see TotalCharges has a positive influence on the data and some features like\n",
        "\n",
        "InternetService_fibreoptics,contract_one year and etc should be examine critically since it has negative impact on the target column.\n",
        "\n",
        " Recommendation and Request\n",
        "\n",
        "We should pay more attention to customers who meet the criteria below\n",
        "\n",
        "1. Contract: Month-to-month\n",
        "2. Tenure: Short tenure\n",
        "3. Internet service: Fiber optic\n",
        "4. Payment method: Electronic check"
      ]
    }
  ],
  "metadata": {
    "kernelspec": {
      "display_name": "Python 3",
      "name": "python3"
    },
    "language_info": {
      "codemirror_mode": {
        "name": "ipython",
        "version": 3
      },
      "file_extension": ".py",
      "mimetype": "text/x-python",
      "name": "python",
      "nbconvert_exporter": "python",
      "pygments_lexer": "ipython3",
      "version": "3.10.10"
    },
    "vscode": {
      "interpreter": {
        "hash": "7679c2132d3f6ce38c9df14d554b39c06862b36a4e6689c81f9ae15bd0911d7d"
      }
    },
    "colab": {
      "provenance": [],
      "toc_visible": true
    }
  },
  "nbformat": 4,
  "nbformat_minor": 5
}